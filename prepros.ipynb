{
 "cells": [
  {
   "cell_type": "code",
   "execution_count": 172,
   "id": "initial_id",
   "metadata": {
    "collapsed": true,
    "ExecuteTime": {
     "end_time": "2024-03-25T08:42:08.774168Z",
     "start_time": "2024-03-25T08:41:57.239455Z"
    }
   },
   "outputs": [
    {
     "name": "stdout",
     "output_type": "stream",
     "text": [
      "Requirement already satisfied: matplotlib in c:\\users\\константин\\appdata\\local\\programs\\python\\python312\\lib\\site-packages (3.8.3)\n",
      "Requirement already satisfied: contourpy>=1.0.1 in c:\\users\\константин\\appdata\\local\\programs\\python\\python312\\lib\\site-packages (from matplotlib) (1.2.0)\n",
      "Requirement already satisfied: cycler>=0.10 in c:\\users\\константин\\appdata\\local\\programs\\python\\python312\\lib\\site-packages (from matplotlib) (0.12.1)\n",
      "Requirement already satisfied: fonttools>=4.22.0 in c:\\users\\константин\\appdata\\local\\programs\\python\\python312\\lib\\site-packages (from matplotlib) (4.50.0)\n",
      "Requirement already satisfied: kiwisolver>=1.3.1 in c:\\users\\константин\\appdata\\local\\programs\\python\\python312\\lib\\site-packages (from matplotlib) (1.4.5)\n",
      "Requirement already satisfied: numpy<2,>=1.21 in c:\\users\\константин\\appdata\\local\\programs\\python\\python312\\lib\\site-packages (from matplotlib) (1.26.4)\n",
      "Requirement already satisfied: packaging>=20.0 in c:\\users\\константин\\appdata\\local\\programs\\python\\python312\\lib\\site-packages (from matplotlib) (24.0)\n",
      "Requirement already satisfied: pillow>=8 in c:\\users\\константин\\appdata\\local\\programs\\python\\python312\\lib\\site-packages (from matplotlib) (10.2.0)\n",
      "Requirement already satisfied: pyparsing>=2.3.1 in c:\\users\\константин\\appdata\\local\\programs\\python\\python312\\lib\\site-packages (from matplotlib) (3.1.2)\n",
      "Requirement already satisfied: python-dateutil>=2.7 in c:\\users\\константин\\appdata\\local\\programs\\python\\python312\\lib\\site-packages (from matplotlib) (2.9.0.post0)\n",
      "Requirement already satisfied: six>=1.5 in c:\\users\\константин\\appdata\\local\\programs\\python\\python312\\lib\\site-packages (from python-dateutil>=2.7->matplotlib) (1.16.0)\n",
      "Requirement already satisfied: seaborn in c:\\users\\константин\\appdata\\local\\programs\\python\\python312\\lib\\site-packages (0.8.1)\n",
      "Requirement already satisfied: numpy in c:\\users\\константин\\appdata\\local\\programs\\python\\python312\\lib\\site-packages (from seaborn) (1.26.4)\n",
      "Requirement already satisfied: scipy in c:\\users\\константин\\appdata\\local\\programs\\python\\python312\\lib\\site-packages (from seaborn) (1.12.0)\n",
      "Requirement already satisfied: matplotlib in c:\\users\\константин\\appdata\\local\\programs\\python\\python312\\lib\\site-packages (from seaborn) (3.8.3)\n",
      "Requirement already satisfied: pandas in c:\\users\\константин\\appdata\\local\\programs\\python\\python312\\lib\\site-packages (from seaborn) (2.2.1)\n",
      "Requirement already satisfied: contourpy>=1.0.1 in c:\\users\\константин\\appdata\\local\\programs\\python\\python312\\lib\\site-packages (from matplotlib->seaborn) (1.2.0)\n",
      "Requirement already satisfied: cycler>=0.10 in c:\\users\\константин\\appdata\\local\\programs\\python\\python312\\lib\\site-packages (from matplotlib->seaborn) (0.12.1)\n",
      "Requirement already satisfied: fonttools>=4.22.0 in c:\\users\\константин\\appdata\\local\\programs\\python\\python312\\lib\\site-packages (from matplotlib->seaborn) (4.50.0)\n",
      "Requirement already satisfied: kiwisolver>=1.3.1 in c:\\users\\константин\\appdata\\local\\programs\\python\\python312\\lib\\site-packages (from matplotlib->seaborn) (1.4.5)\n",
      "Requirement already satisfied: packaging>=20.0 in c:\\users\\константин\\appdata\\local\\programs\\python\\python312\\lib\\site-packages (from matplotlib->seaborn) (24.0)\n",
      "Requirement already satisfied: pillow>=8 in c:\\users\\константин\\appdata\\local\\programs\\python\\python312\\lib\\site-packages (from matplotlib->seaborn) (10.2.0)\n",
      "Requirement already satisfied: pyparsing>=2.3.1 in c:\\users\\константин\\appdata\\local\\programs\\python\\python312\\lib\\site-packages (from matplotlib->seaborn) (3.1.2)\n",
      "Requirement already satisfied: python-dateutil>=2.7 in c:\\users\\константин\\appdata\\local\\programs\\python\\python312\\lib\\site-packages (from matplotlib->seaborn) (2.9.0.post0)\n",
      "Requirement already satisfied: pytz>=2020.1 in c:\\users\\константин\\appdata\\local\\programs\\python\\python312\\lib\\site-packages (from pandas->seaborn) (2024.1)\n",
      "Requirement already satisfied: tzdata>=2022.7 in c:\\users\\константин\\appdata\\local\\programs\\python\\python312\\lib\\site-packages (from pandas->seaborn) (2024.1)\n",
      "Requirement already satisfied: six>=1.5 in c:\\users\\константин\\appdata\\local\\programs\\python\\python312\\lib\\site-packages (from python-dateutil>=2.7->matplotlib->seaborn) (1.16.0)\n",
      "Requirement already satisfied: numpy in c:\\users\\константин\\appdata\\local\\programs\\python\\python312\\lib\\site-packages (1.26.4)\n",
      "Requirement already satisfied: pandas in c:\\users\\константин\\appdata\\local\\programs\\python\\python312\\lib\\site-packages (2.2.1)\n",
      "Requirement already satisfied: numpy<2,>=1.26.0 in c:\\users\\константин\\appdata\\local\\programs\\python\\python312\\lib\\site-packages (from pandas) (1.26.4)\n",
      "Requirement already satisfied: python-dateutil>=2.8.2 in c:\\users\\константин\\appdata\\local\\programs\\python\\python312\\lib\\site-packages (from pandas) (2.9.0.post0)\n",
      "Requirement already satisfied: pytz>=2020.1 in c:\\users\\константин\\appdata\\local\\programs\\python\\python312\\lib\\site-packages (from pandas) (2024.1)\n",
      "Requirement already satisfied: tzdata>=2022.7 in c:\\users\\константин\\appdata\\local\\programs\\python\\python312\\lib\\site-packages (from pandas) (2024.1)\n",
      "Requirement already satisfied: six>=1.5 in c:\\users\\константин\\appdata\\local\\programs\\python\\python312\\lib\\site-packages (from python-dateutil>=2.8.2->pandas) (1.16.0)\n",
      "Requirement already satisfied: scikit-learn in c:\\users\\константин\\appdata\\local\\programs\\python\\python312\\lib\\site-packages (1.4.1.post1)\n",
      "Requirement already satisfied: numpy<2.0,>=1.19.5 in c:\\users\\константин\\appdata\\local\\programs\\python\\python312\\lib\\site-packages (from scikit-learn) (1.26.4)\n",
      "Requirement already satisfied: scipy>=1.6.0 in c:\\users\\константин\\appdata\\local\\programs\\python\\python312\\lib\\site-packages (from scikit-learn) (1.12.0)\n",
      "Requirement already satisfied: joblib>=1.2.0 in c:\\users\\константин\\appdata\\local\\programs\\python\\python312\\lib\\site-packages (from scikit-learn) (1.3.2)\n",
      "Requirement already satisfied: threadpoolctl>=2.0.0 in c:\\users\\константин\\appdata\\local\\programs\\python\\python312\\lib\\site-packages (from scikit-learn) (3.4.0)\n"
     ]
    }
   ],
   "source": [
    "#downloading required libraries\n",
    "!pip install matplotlib\n",
    "!pip install seaborn\n",
    "!pip install numpy\n",
    "!pip install pandas\n",
    "!pip install scikit-learn"
   ]
  },
  {
   "cell_type": "markdown",
   "source": [
    "IMPORTS"
   ],
   "metadata": {
    "collapsed": false
   },
   "id": "dbbbb3a359e051fa"
  },
  {
   "cell_type": "code",
   "outputs": [],
   "source": [
    "import pandas as pd\n",
    "import seaborn as sns\n",
    "import matplotlib.pyplot as plt\n",
    "%matplotlib inline"
   ],
   "metadata": {
    "collapsed": false
   },
   "id": "80e1921c2b0914e2",
   "execution_count": null
  },
  {
   "cell_type": "markdown",
   "source": [
    "REQUIRED FUNCTIONS"
   ],
   "metadata": {
    "collapsed": false
   },
   "id": "93d81933c2c9f08f"
  },
  {
   "cell_type": "markdown",
   "source": [],
   "metadata": {
    "collapsed": false
   },
   "id": "90960aa73d3c9280"
  },
  {
   "cell_type": "code",
   "outputs": [],
   "source": [
    "\n",
    "# func for one-hot encoding (useless for CatBoost regressor)\n",
    "def encode_text_columns(df: pd.DataFrame) -> pd.DataFrame:\n",
    "    # copy df\n",
    "    encoded_df = df.copy()\n",
    "    # iterate DataFrame through columns\n",
    "    for column in encoded_df.columns:\n",
    "        # check data\n",
    "        if encoded_df[column].dtype == object and column != 'timestamp':\n",
    "            # one-hot encoding\n",
    "            encoded_df[column], _ = pd.factorize(encoded_df[column])\n",
    "    return encoded_df\n",
    "\n",
    "\n",
    "def remove_columns_with_missing_data(df: pd.DataFrame, percent: int) -> pd.DataFrame:\n",
    "    # copy df\n",
    "    df_cleaned = df.copy()\n",
    "    # iterate DataFrame through columns\n",
    "    for column in df_cleaned.columns:\n",
    "        # Calculate the percentage of missing data for each column\n",
    "        missing_percent = (df_cleaned[column].isnull().sum() / len(df_cleaned)) * 100\n",
    "        # If the percentage of missing data is greater than the specified X, delete the column\n",
    "        if missing_percent > percent:\n",
    "            df_cleaned.drop(column, axis = 1, inplace = True)\n",
    "    return df_cleaned\n",
    "\n",
    "\n",
    "def mean_filling_missing_data(df: pd.DataFrame) -> pd.DataFrame:\n",
    "    # copy df\n",
    "    df = df.copy()\n",
    "    # iterate DataFrame through columns\n",
    "    # Filling missing values for continuously columns with the mean value\n",
    "    for column in df.select_dtypes(include = ['number']).columns:\n",
    "        df[column].fillna(df[column].mean(), inplace = True)\n",
    "    # Filling missing values for categorical columns with the most common value\n",
    "    for column in df.select_dtypes(include = ['object']).columns:\n",
    "        df[column].fillna(df[column].mode()[0], inplace = True)\n",
    "    return df\n",
    "\n",
    "\n",
    "def remove_corr_data(df: pd.DataFrame, threshold: float) -> pd.DataFrame:\n",
    "    # Creating corr matrix\n",
    "    df1 = df.copy()\n",
    "    df = encode_text_columns(df.copy())\n",
    "    try:\n",
    "        del df['timestamp']\n",
    "    except KeyError:\n",
    "        pass\n",
    "    correlation_matrix = df.corr().abs()\n",
    "\n",
    "    # Finding the indices of columns with correlations above the threshold\n",
    "    above_threshold_vars = {}\n",
    "    for col in correlation_matrix:\n",
    "        above_threshold_vars[col] = list(correlation_matrix.index[(1 > correlation_matrix[col]) & (correlation_matrix[col] > threshold)])\n",
    "    # Discard one of the columns from each pair with high correlation\n",
    "    cols_to_drop = set()\n",
    "    for col in above_threshold_vars:\n",
    "        cols_to_drop.update(set(above_threshold_vars[col]) - {col})\n",
    "    # Del columns\n",
    "    df_reduced = df1.drop(columns=cols_to_drop)\n",
    "    return df_reduced\n",
    "\n",
    "\n",
    "def construct_heatmap(df: pd.DataFrame) -> None:\n",
    "    # Construct heatmap and corr matrix\n",
    "    corr_matrix = encode_text_columns(df)\n",
    "    try:\n",
    "        del corr_matrix['timestamp']\n",
    "    except:\n",
    "        pass\n",
    "    sns.heatmap(corr_matrix.corr())\n",
    "\n",
    "\n",
    "\n",
    "\n",
    "def plot_data(df):\n",
    "    for column in df.columns:\n",
    "        if pd.api.types.is_integer_dtype(df[column]):\n",
    "            # Construct a histogram for integer values\n",
    "            df[column].hist()\n",
    "            plt.title(f'Histogram of {column}')\n",
    "            plt.xlabel('Value')\n",
    "            plt.ylabel('Number of objects')\n",
    "            plt.show()\n",
    "        elif pd.api.types.is_float_dtype(df[column]):\n",
    "            # Construct a distribution graph for continuous values\n",
    "            sns.histplot(df[column], kde=True)\n",
    "            plt.title(f'Distribution of data in the {column} column')\n",
    "            plt.xlabel('Value')\n",
    "            plt.ylabel('Density')\n",
    "            plt.show()\n",
    "            \n",
    "def split_into_price_ranges(df, N):\n",
    "    # Check that N is not greater than the number of objects in the DataFrame\n",
    "    if N > len(df):\n",
    "        raise ValueError(\"N не может быть больше количества объектов в DataFrame\")\n",
    "    \n",
    "    #   Using qcut to split into groups\n",
    "    df['price_group'] = pd.qcut(df['price_doc'], q=N, labels=[i for i in range(N)])\n",
    "    \n",
    "    # Outputting intervals and class labels\n",
    "    intervals = pd.qcut(df['price_doc'], q=N).unique()\n",
    "    for interval in sorted(intervals):\n",
    "        print(f\"Интервал: {interval}, Метка класса: {df[df['price_doc'].between(interval.left, interval.right)]['price_group'].iloc[0]}\")\n",
    "    \n",
    "    # Returning a new dataset\n",
    "    return df\n",
    "\n",
    "def visualize_price_distribution(price_column: pd.Series) -> None:\n",
    "    plt.figure(figsize=(10, 6))\n",
    "    plt.hist(price_column, bins=60, color='blue', edgecolor='black')\n",
    "    plt.title('Распределение цен на недвижимость')\n",
    "    plt.xlim(0,30*10**6)\n",
    "    plt.xlabel('Цена')\n",
    "    plt.ylabel('Количество объектов')\n",
    "    plt.grid(True)\n",
    "    plt.show()\n"
   ],
   "metadata": {
    "collapsed": false,
    "ExecuteTime": {
     "end_time": "2024-03-26T03:51:19.267649Z",
     "start_time": "2024-03-26T03:51:19.249840Z"
    }
   },
   "id": "db3ec5f1bf350263",
   "execution_count": 4
  },
  {
   "cell_type": "markdown",
   "source": [
    "READING DATASETS"
   ],
   "metadata": {
    "collapsed": false
   },
   "id": "5df64b7e3f1bd232"
  },
  {
   "cell_type": "code",
   "outputs": [],
   "source": [
    "#reading csv files\n",
    "train_df = pd.read_csv(\"datasets/train.csv\", index_col=0)\n",
    "macro_df = pd.read_csv(\"datasets/macro.csv\")"
   ],
   "metadata": {
    "collapsed": false,
    "ExecuteTime": {
     "end_time": "2024-03-26T03:51:21.652673Z",
     "start_time": "2024-03-26T03:51:20.601287Z"
    }
   },
   "id": "52046fd833ba57db",
   "execution_count": 5
  },
  {
   "cell_type": "markdown",
   "source": [
    "EDA"
   ],
   "metadata": {
    "collapsed": false
   },
   "id": "6959e6585b831e17"
  },
  {
   "cell_type": "code",
   "outputs": [
    {
     "name": "stdout",
     "output_type": "stream",
     "text": [
      "<class 'pandas.core.frame.DataFrame'>\n",
      "Index: 30471 entries, 1 to 30473\n",
      "Columns: 291 entries, timestamp to price_doc\n",
      "dtypes: float64(119), int64(156), object(16)\n",
      "memory usage: 67.9+ MB\n",
      "None\n",
      "----------------------------------------------------------------------------------------------------\n",
      "<class 'pandas.core.frame.DataFrame'>\n",
      "RangeIndex: 2484 entries, 0 to 2483\n",
      "Data columns (total 100 columns):\n",
      " #   Column                                      Non-Null Count  Dtype  \n",
      "---  ------                                      --------------  -----  \n",
      " 0   timestamp                                   2484 non-null   object \n",
      " 1   oil_urals                                   2484 non-null   float64\n",
      " 2   gdp_quart                                   2394 non-null   float64\n",
      " 3   gdp_quart_growth                            2394 non-null   float64\n",
      " 4   cpi                                         2453 non-null   float64\n",
      " 5   ppi                                         2453 non-null   float64\n",
      " 6   gdp_deflator                                2119 non-null   float64\n",
      " 7   balance_trade                               2453 non-null   float64\n",
      " 8   balance_trade_growth                        2394 non-null   float64\n",
      " 9   usdrub                                      2481 non-null   float64\n",
      " 10  eurrub                                      2481 non-null   float64\n",
      " 11  brent                                       2481 non-null   float64\n",
      " 12  net_capital_export                          2088 non-null   float64\n",
      " 13  gdp_annual                                  2484 non-null   float64\n",
      " 14  gdp_annual_growth                           2484 non-null   float64\n",
      " 15  average_provision_of_build_contract         2484 non-null   float64\n",
      " 16  average_provision_of_build_contract_moscow  2119 non-null   float64\n",
      " 17  rts                                         2474 non-null   float64\n",
      " 18  micex                                       2474 non-null   float64\n",
      " 19  micex_rgbi_tr                               2474 non-null   float64\n",
      " 20  micex_cbi_tr                                2483 non-null   float64\n",
      " 21  deposits_value                              2484 non-null   int64  \n",
      " 22  deposits_growth                             2453 non-null   float64\n",
      " 23  deposits_rate                               2070 non-null   float64\n",
      " 24  mortgage_value                              2484 non-null   int64  \n",
      " 25  mortgage_growth                             2119 non-null   float64\n",
      " 26  mortgage_rate                               2484 non-null   float64\n",
      " 27  grp                                         1826 non-null   float64\n",
      " 28  grp_growth                                  1461 non-null   float64\n",
      " 29  income_per_cap                              2191 non-null   float64\n",
      " 30  real_dispos_income_per_cap_growth           1826 non-null   float64\n",
      " 31  salary                                      2191 non-null   float64\n",
      " 32  salary_growth                               1826 non-null   float64\n",
      " 33  fixed_basket                                2484 non-null   float64\n",
      " 34  retail_trade_turnover                       2191 non-null   float64\n",
      " 35  retail_trade_turnover_per_cap               2191 non-null   float64\n",
      " 36  retail_trade_turnover_growth                2191 non-null   float64\n",
      " 37  labor_force                                 2191 non-null   float64\n",
      " 38  unemployment                                2191 non-null   float64\n",
      " 39  employment                                  2191 non-null   float64\n",
      " 40  invest_fixed_capital_per_cap                2191 non-null   float64\n",
      " 41  invest_fixed_assets                         2191 non-null   float64\n",
      " 42  profitable_enterpr_share                    1826 non-null   float64\n",
      " 43  unprofitable_enterpr_share                  1826 non-null   float64\n",
      " 44  share_own_revenues                          1826 non-null   float64\n",
      " 45  overdue_wages_per_cap                       1826 non-null   float64\n",
      " 46  fin_res_per_cap                             1826 non-null   float64\n",
      " 47  marriages_per_1000_cap                      1826 non-null   float64\n",
      " 48  divorce_rate                                1826 non-null   float64\n",
      " 49  construction_value                          1826 non-null   float64\n",
      " 50  invest_fixed_assets_phys                    1826 non-null   float64\n",
      " 51  pop_natural_increase                        2191 non-null   float64\n",
      " 52  pop_migration                               1826 non-null   float64\n",
      " 53  pop_total_inc                               1826 non-null   float64\n",
      " 54  childbirth                                  2191 non-null   float64\n",
      " 55  mortality                                   2191 non-null   float64\n",
      " 56  housing_fund_sqm                            1826 non-null   float64\n",
      " 57  lodging_sqm_per_cap                         1826 non-null   float64\n",
      " 58  water_pipes_share                           1826 non-null   float64\n",
      " 59  baths_share                                 1826 non-null   float64\n",
      " 60  sewerage_share                              1826 non-null   float64\n",
      " 61  gas_share                                   1826 non-null   float64\n",
      " 62  hot_water_share                             1826 non-null   float64\n",
      " 63  electric_stove_share                        1826 non-null   float64\n",
      " 64  heating_share                               1826 non-null   float64\n",
      " 65  old_house_share                             1826 non-null   float64\n",
      " 66  average_life_exp                            2191 non-null   float64\n",
      " 67  infant_mortarity_per_1000_cap               1826 non-null   float64\n",
      " 68  perinatal_mort_per_1000_cap                 1826 non-null   float64\n",
      " 69  incidence_population                        1826 non-null   float64\n",
      " 70  rent_price_4+room_bus                       2211 non-null   float64\n",
      " 71  rent_price_3room_bus                        2211 non-null   float64\n",
      " 72  rent_price_2room_bus                        2211 non-null   float64\n",
      " 73  rent_price_1room_bus                        2211 non-null   float64\n",
      " 74  rent_price_3room_eco                        2211 non-null   float64\n",
      " 75  rent_price_2room_eco                        2211 non-null   float64\n",
      " 76  rent_price_1room_eco                        2211 non-null   float64\n",
      " 77  load_of_teachers_preschool_per_teacher      1461 non-null   float64\n",
      " 78  child_on_acc_pre_school                     1826 non-null   object \n",
      " 79  load_of_teachers_school_per_teacher         2191 non-null   float64\n",
      " 80  students_state_oneshift                     1826 non-null   float64\n",
      " 81  modern_education_share                      1095 non-null   object \n",
      " 82  old_education_build_share                   1095 non-null   object \n",
      " 83  provision_doctors                           1826 non-null   float64\n",
      " 84  provision_nurse                             2191 non-null   float64\n",
      " 85  load_on_doctors                             2191 non-null   float64\n",
      " 86  power_clinics                               1826 non-null   float64\n",
      " 87  hospital_beds_available_per_cap             1461 non-null   float64\n",
      " 88  hospital_bed_occupancy_per_year             1461 non-null   float64\n",
      " 89  provision_retail_space_sqm                  731 non-null    float64\n",
      " 90  provision_retail_space_modern_sqm           730 non-null    float64\n",
      " 91  turnover_catering_per_cap                   2191 non-null   float64\n",
      " 92  theaters_viewers_per_1000_cap               1461 non-null   float64\n",
      " 93  seats_theather_rfmin_per_100000_cap         2191 non-null   float64\n",
      " 94  museum_visitis_per_100_cap                  1461 non-null   float64\n",
      " 95  bandwidth_sports                            1826 non-null   float64\n",
      " 96  population_reg_sports_share                 1461 non-null   float64\n",
      " 97  students_reg_sports_share                   1461 non-null   float64\n",
      " 98  apartment_build                             1826 non-null   float64\n",
      " 99  apartment_fund_sqm                          1826 non-null   float64\n",
      "dtypes: float64(94), int64(2), object(4)\n",
      "memory usage: 1.9+ MB\n",
      "None\n",
      "----------------------------------------------------------------------------------------------------\n"
     ]
    }
   ],
   "source": [
    "#information about datasets\n",
    "for dataset in [train_df, macro_df]:\n",
    "    print(dataset.info())\n",
    "    print('-'*100)"
   ],
   "metadata": {
    "collapsed": false,
    "ExecuteTime": {
     "end_time": "2024-03-26T03:51:21.691965Z",
     "start_time": "2024-03-26T03:51:21.653767Z"
    }
   },
   "id": "29f48efe50ecb31f",
   "execution_count": 6
  },
  {
   "cell_type": "code",
   "outputs": [
    {
     "data": {
      "text/plain": "     timestamp  full_sq  life_sq  floor  max_floor  material  build_year  \\\nid                                                                         \n1   2011-08-20       43     27.0    4.0        NaN       NaN         NaN   \n2   2011-08-23       34     19.0    3.0        NaN       NaN         NaN   \n3   2011-08-27       43     29.0    2.0        NaN       NaN         NaN   \n4   2011-09-01       89     50.0    9.0        NaN       NaN         NaN   \n5   2011-09-05       77     77.0    4.0        NaN       NaN         NaN   \n\n    num_room  kitch_sq  state  ... cafe_count_5000_price_2500  \\\nid                             ...                              \n1        NaN       NaN    NaN  ...                          9   \n2        NaN       NaN    NaN  ...                         15   \n3        NaN       NaN    NaN  ...                         10   \n4        NaN       NaN    NaN  ...                         11   \n5        NaN       NaN    NaN  ...                        319   \n\n   cafe_count_5000_price_4000  cafe_count_5000_price_high  \\\nid                                                          \n1                           4                           0   \n2                           3                           0   \n3                           3                           0   \n4                           2                           1   \n5                         108                          17   \n\n    big_church_count_5000  church_count_5000  mosque_count_5000  \\\nid                                                                \n1                      13                 22                  1   \n2                      15                 29                  1   \n3                      11                 27                  0   \n4                       4                  4                  0   \n5                     135                236                  2   \n\n    leisure_count_5000  sport_count_5000  market_count_5000  price_doc  \nid                                                                      \n1                    0                52                  4    5850000  \n2                   10                66                 14    6000000  \n3                    4                67                 10    5700000  \n4                    0                26                  3   13100000  \n5                   91               195                 14   16331452  \n\n[5 rows x 291 columns]",
      "text/html": "<div>\n<style scoped>\n    .dataframe tbody tr th:only-of-type {\n        vertical-align: middle;\n    }\n\n    .dataframe tbody tr th {\n        vertical-align: top;\n    }\n\n    .dataframe thead th {\n        text-align: right;\n    }\n</style>\n<table border=\"1\" class=\"dataframe\">\n  <thead>\n    <tr style=\"text-align: right;\">\n      <th></th>\n      <th>timestamp</th>\n      <th>full_sq</th>\n      <th>life_sq</th>\n      <th>floor</th>\n      <th>max_floor</th>\n      <th>material</th>\n      <th>build_year</th>\n      <th>num_room</th>\n      <th>kitch_sq</th>\n      <th>state</th>\n      <th>...</th>\n      <th>cafe_count_5000_price_2500</th>\n      <th>cafe_count_5000_price_4000</th>\n      <th>cafe_count_5000_price_high</th>\n      <th>big_church_count_5000</th>\n      <th>church_count_5000</th>\n      <th>mosque_count_5000</th>\n      <th>leisure_count_5000</th>\n      <th>sport_count_5000</th>\n      <th>market_count_5000</th>\n      <th>price_doc</th>\n    </tr>\n    <tr>\n      <th>id</th>\n      <th></th>\n      <th></th>\n      <th></th>\n      <th></th>\n      <th></th>\n      <th></th>\n      <th></th>\n      <th></th>\n      <th></th>\n      <th></th>\n      <th></th>\n      <th></th>\n      <th></th>\n      <th></th>\n      <th></th>\n      <th></th>\n      <th></th>\n      <th></th>\n      <th></th>\n      <th></th>\n      <th></th>\n    </tr>\n  </thead>\n  <tbody>\n    <tr>\n      <th>1</th>\n      <td>2011-08-20</td>\n      <td>43</td>\n      <td>27.0</td>\n      <td>4.0</td>\n      <td>NaN</td>\n      <td>NaN</td>\n      <td>NaN</td>\n      <td>NaN</td>\n      <td>NaN</td>\n      <td>NaN</td>\n      <td>...</td>\n      <td>9</td>\n      <td>4</td>\n      <td>0</td>\n      <td>13</td>\n      <td>22</td>\n      <td>1</td>\n      <td>0</td>\n      <td>52</td>\n      <td>4</td>\n      <td>5850000</td>\n    </tr>\n    <tr>\n      <th>2</th>\n      <td>2011-08-23</td>\n      <td>34</td>\n      <td>19.0</td>\n      <td>3.0</td>\n      <td>NaN</td>\n      <td>NaN</td>\n      <td>NaN</td>\n      <td>NaN</td>\n      <td>NaN</td>\n      <td>NaN</td>\n      <td>...</td>\n      <td>15</td>\n      <td>3</td>\n      <td>0</td>\n      <td>15</td>\n      <td>29</td>\n      <td>1</td>\n      <td>10</td>\n      <td>66</td>\n      <td>14</td>\n      <td>6000000</td>\n    </tr>\n    <tr>\n      <th>3</th>\n      <td>2011-08-27</td>\n      <td>43</td>\n      <td>29.0</td>\n      <td>2.0</td>\n      <td>NaN</td>\n      <td>NaN</td>\n      <td>NaN</td>\n      <td>NaN</td>\n      <td>NaN</td>\n      <td>NaN</td>\n      <td>...</td>\n      <td>10</td>\n      <td>3</td>\n      <td>0</td>\n      <td>11</td>\n      <td>27</td>\n      <td>0</td>\n      <td>4</td>\n      <td>67</td>\n      <td>10</td>\n      <td>5700000</td>\n    </tr>\n    <tr>\n      <th>4</th>\n      <td>2011-09-01</td>\n      <td>89</td>\n      <td>50.0</td>\n      <td>9.0</td>\n      <td>NaN</td>\n      <td>NaN</td>\n      <td>NaN</td>\n      <td>NaN</td>\n      <td>NaN</td>\n      <td>NaN</td>\n      <td>...</td>\n      <td>11</td>\n      <td>2</td>\n      <td>1</td>\n      <td>4</td>\n      <td>4</td>\n      <td>0</td>\n      <td>0</td>\n      <td>26</td>\n      <td>3</td>\n      <td>13100000</td>\n    </tr>\n    <tr>\n      <th>5</th>\n      <td>2011-09-05</td>\n      <td>77</td>\n      <td>77.0</td>\n      <td>4.0</td>\n      <td>NaN</td>\n      <td>NaN</td>\n      <td>NaN</td>\n      <td>NaN</td>\n      <td>NaN</td>\n      <td>NaN</td>\n      <td>...</td>\n      <td>319</td>\n      <td>108</td>\n      <td>17</td>\n      <td>135</td>\n      <td>236</td>\n      <td>2</td>\n      <td>91</td>\n      <td>195</td>\n      <td>14</td>\n      <td>16331452</td>\n    </tr>\n  </tbody>\n</table>\n<p>5 rows × 291 columns</p>\n</div>"
     },
     "execution_count": 7,
     "metadata": {},
     "output_type": "execute_result"
    }
   ],
   "source": [
    "train_df.head()"
   ],
   "metadata": {
    "collapsed": false,
    "ExecuteTime": {
     "end_time": "2024-03-26T03:51:22.785254Z",
     "start_time": "2024-03-26T03:51:22.765032Z"
    }
   },
   "id": "80937e71c5f8611f",
   "execution_count": 7
  },
  {
   "cell_type": "code",
   "outputs": [
    {
     "data": {
      "text/plain": "    timestamp  oil_urals  gdp_quart  gdp_quart_growth  cpi  ppi  gdp_deflator  \\\n0  2010-01-01       76.1        NaN               NaN  NaN  NaN           NaN   \n1  2010-01-02       76.1        NaN               NaN  NaN  NaN           NaN   \n2  2010-01-03       76.1        NaN               NaN  NaN  NaN           NaN   \n3  2010-01-04       76.1        NaN               NaN  NaN  NaN           NaN   \n4  2010-01-05       76.1        NaN               NaN  NaN  NaN           NaN   \n\n   balance_trade  balance_trade_growth  usdrub  ...  \\\n0            NaN                   NaN     NaN  ...   \n1            NaN                   NaN     NaN  ...   \n2            NaN                   NaN     NaN  ...   \n3            NaN                   NaN  29.905  ...   \n4            NaN                   NaN  29.836  ...   \n\n   provision_retail_space_modern_sqm  turnover_catering_per_cap  \\\n0                              690.0                     6221.0   \n1                              690.0                     6221.0   \n2                              690.0                     6221.0   \n3                              690.0                     6221.0   \n4                              690.0                     6221.0   \n\n   theaters_viewers_per_1000_cap  seats_theather_rfmin_per_100000_cap  \\\n0                          527.0                                 0.41   \n1                          527.0                                 0.41   \n2                          527.0                                 0.41   \n3                          527.0                                 0.41   \n4                          527.0                                 0.41   \n\n   museum_visitis_per_100_cap  bandwidth_sports  population_reg_sports_share  \\\n0                       993.0               NaN                          NaN   \n1                       993.0               NaN                          NaN   \n2                       993.0               NaN                          NaN   \n3                       993.0               NaN                          NaN   \n4                       993.0               NaN                          NaN   \n\n   students_reg_sports_share  apartment_build  apartment_fund_sqm  \n0                      63.03          22825.0                 NaN  \n1                      63.03          22825.0                 NaN  \n2                      63.03          22825.0                 NaN  \n3                      63.03          22825.0                 NaN  \n4                      63.03          22825.0                 NaN  \n\n[5 rows x 100 columns]",
      "text/html": "<div>\n<style scoped>\n    .dataframe tbody tr th:only-of-type {\n        vertical-align: middle;\n    }\n\n    .dataframe tbody tr th {\n        vertical-align: top;\n    }\n\n    .dataframe thead th {\n        text-align: right;\n    }\n</style>\n<table border=\"1\" class=\"dataframe\">\n  <thead>\n    <tr style=\"text-align: right;\">\n      <th></th>\n      <th>timestamp</th>\n      <th>oil_urals</th>\n      <th>gdp_quart</th>\n      <th>gdp_quart_growth</th>\n      <th>cpi</th>\n      <th>ppi</th>\n      <th>gdp_deflator</th>\n      <th>balance_trade</th>\n      <th>balance_trade_growth</th>\n      <th>usdrub</th>\n      <th>...</th>\n      <th>provision_retail_space_modern_sqm</th>\n      <th>turnover_catering_per_cap</th>\n      <th>theaters_viewers_per_1000_cap</th>\n      <th>seats_theather_rfmin_per_100000_cap</th>\n      <th>museum_visitis_per_100_cap</th>\n      <th>bandwidth_sports</th>\n      <th>population_reg_sports_share</th>\n      <th>students_reg_sports_share</th>\n      <th>apartment_build</th>\n      <th>apartment_fund_sqm</th>\n    </tr>\n  </thead>\n  <tbody>\n    <tr>\n      <th>0</th>\n      <td>2010-01-01</td>\n      <td>76.1</td>\n      <td>NaN</td>\n      <td>NaN</td>\n      <td>NaN</td>\n      <td>NaN</td>\n      <td>NaN</td>\n      <td>NaN</td>\n      <td>NaN</td>\n      <td>NaN</td>\n      <td>...</td>\n      <td>690.0</td>\n      <td>6221.0</td>\n      <td>527.0</td>\n      <td>0.41</td>\n      <td>993.0</td>\n      <td>NaN</td>\n      <td>NaN</td>\n      <td>63.03</td>\n      <td>22825.0</td>\n      <td>NaN</td>\n    </tr>\n    <tr>\n      <th>1</th>\n      <td>2010-01-02</td>\n      <td>76.1</td>\n      <td>NaN</td>\n      <td>NaN</td>\n      <td>NaN</td>\n      <td>NaN</td>\n      <td>NaN</td>\n      <td>NaN</td>\n      <td>NaN</td>\n      <td>NaN</td>\n      <td>...</td>\n      <td>690.0</td>\n      <td>6221.0</td>\n      <td>527.0</td>\n      <td>0.41</td>\n      <td>993.0</td>\n      <td>NaN</td>\n      <td>NaN</td>\n      <td>63.03</td>\n      <td>22825.0</td>\n      <td>NaN</td>\n    </tr>\n    <tr>\n      <th>2</th>\n      <td>2010-01-03</td>\n      <td>76.1</td>\n      <td>NaN</td>\n      <td>NaN</td>\n      <td>NaN</td>\n      <td>NaN</td>\n      <td>NaN</td>\n      <td>NaN</td>\n      <td>NaN</td>\n      <td>NaN</td>\n      <td>...</td>\n      <td>690.0</td>\n      <td>6221.0</td>\n      <td>527.0</td>\n      <td>0.41</td>\n      <td>993.0</td>\n      <td>NaN</td>\n      <td>NaN</td>\n      <td>63.03</td>\n      <td>22825.0</td>\n      <td>NaN</td>\n    </tr>\n    <tr>\n      <th>3</th>\n      <td>2010-01-04</td>\n      <td>76.1</td>\n      <td>NaN</td>\n      <td>NaN</td>\n      <td>NaN</td>\n      <td>NaN</td>\n      <td>NaN</td>\n      <td>NaN</td>\n      <td>NaN</td>\n      <td>29.905</td>\n      <td>...</td>\n      <td>690.0</td>\n      <td>6221.0</td>\n      <td>527.0</td>\n      <td>0.41</td>\n      <td>993.0</td>\n      <td>NaN</td>\n      <td>NaN</td>\n      <td>63.03</td>\n      <td>22825.0</td>\n      <td>NaN</td>\n    </tr>\n    <tr>\n      <th>4</th>\n      <td>2010-01-05</td>\n      <td>76.1</td>\n      <td>NaN</td>\n      <td>NaN</td>\n      <td>NaN</td>\n      <td>NaN</td>\n      <td>NaN</td>\n      <td>NaN</td>\n      <td>NaN</td>\n      <td>29.836</td>\n      <td>...</td>\n      <td>690.0</td>\n      <td>6221.0</td>\n      <td>527.0</td>\n      <td>0.41</td>\n      <td>993.0</td>\n      <td>NaN</td>\n      <td>NaN</td>\n      <td>63.03</td>\n      <td>22825.0</td>\n      <td>NaN</td>\n    </tr>\n  </tbody>\n</table>\n<p>5 rows × 100 columns</p>\n</div>"
     },
     "execution_count": 8,
     "metadata": {},
     "output_type": "execute_result"
    }
   ],
   "source": [
    "macro_df.head()"
   ],
   "metadata": {
    "collapsed": false,
    "ExecuteTime": {
     "end_time": "2024-03-26T03:51:25.363989Z",
     "start_time": "2024-03-26T03:51:25.338117Z"
    }
   },
   "id": "24e9ff4e016a6808",
   "execution_count": 8
  },
  {
   "cell_type": "markdown",
   "source": [
    "MERGING DATASETS  "
   ],
   "metadata": {
    "collapsed": false
   },
   "id": "662d6d76e13a58b4"
  },
  {
   "cell_type": "code",
   "outputs": [
    {
     "name": "stdout",
     "output_type": "stream",
     "text": [
      "<class 'pandas.core.frame.DataFrame'>\n",
      "RangeIndex: 30471 entries, 0 to 30470\n",
      "Columns: 390 entries, timestamp to apartment_fund_sqm\n",
      "dtypes: float64(213), int64(158), object(19)\n",
      "memory usage: 90.7+ MB\n"
     ]
    }
   ],
   "source": [
    "df = pd.merge(train_df, macro_df,)\n",
    "df.info()"
   ],
   "metadata": {
    "collapsed": false,
    "ExecuteTime": {
     "end_time": "2024-03-26T03:51:26.637107Z",
     "start_time": "2024-03-26T03:51:26.569939Z"
    }
   },
   "id": "e7bb32cc8d8b2dca",
   "execution_count": 9
  },
  {
   "cell_type": "code",
   "outputs": [
    {
     "data": {
      "text/plain": "    timestamp  full_sq  life_sq  floor  max_floor  material  build_year  \\\n0  2011-08-20       43     27.0    4.0        NaN       NaN         NaN   \n1  2011-08-23       34     19.0    3.0        NaN       NaN         NaN   \n2  2011-08-27       43     29.0    2.0        NaN       NaN         NaN   \n3  2011-09-01       89     50.0    9.0        NaN       NaN         NaN   \n4  2011-09-05       77     77.0    4.0        NaN       NaN         NaN   \n\n   num_room  kitch_sq  state  ... provision_retail_space_modern_sqm  \\\n0       NaN       NaN    NaN  ...                             271.0   \n1       NaN       NaN    NaN  ...                             271.0   \n2       NaN       NaN    NaN  ...                             271.0   \n3       NaN       NaN    NaN  ...                             271.0   \n4       NaN       NaN    NaN  ...                             271.0   \n\n  turnover_catering_per_cap  theaters_viewers_per_1000_cap  \\\n0                    6943.0                          565.0   \n1                    6943.0                          565.0   \n2                    6943.0                          565.0   \n3                    6943.0                          565.0   \n4                    6943.0                          565.0   \n\n   seats_theather_rfmin_per_100000_cap  museum_visitis_per_100_cap  \\\n0                              0.45356                      1240.0   \n1                              0.45356                      1240.0   \n2                              0.45356                      1240.0   \n3                              0.45356                      1240.0   \n4                              0.45356                      1240.0   \n\n   bandwidth_sports  population_reg_sports_share  students_reg_sports_share  \\\n0          269768.0                        22.37                      64.12   \n1          269768.0                        22.37                      64.12   \n2          269768.0                        22.37                      64.12   \n3          269768.0                        22.37                      64.12   \n4          269768.0                        22.37                      64.12   \n\n   apartment_build  apartment_fund_sqm  \n0          23587.0            230310.0  \n1          23587.0            230310.0  \n2          23587.0            230310.0  \n3          23587.0            230310.0  \n4          23587.0            230310.0  \n\n[5 rows x 390 columns]",
      "text/html": "<div>\n<style scoped>\n    .dataframe tbody tr th:only-of-type {\n        vertical-align: middle;\n    }\n\n    .dataframe tbody tr th {\n        vertical-align: top;\n    }\n\n    .dataframe thead th {\n        text-align: right;\n    }\n</style>\n<table border=\"1\" class=\"dataframe\">\n  <thead>\n    <tr style=\"text-align: right;\">\n      <th></th>\n      <th>timestamp</th>\n      <th>full_sq</th>\n      <th>life_sq</th>\n      <th>floor</th>\n      <th>max_floor</th>\n      <th>material</th>\n      <th>build_year</th>\n      <th>num_room</th>\n      <th>kitch_sq</th>\n      <th>state</th>\n      <th>...</th>\n      <th>provision_retail_space_modern_sqm</th>\n      <th>turnover_catering_per_cap</th>\n      <th>theaters_viewers_per_1000_cap</th>\n      <th>seats_theather_rfmin_per_100000_cap</th>\n      <th>museum_visitis_per_100_cap</th>\n      <th>bandwidth_sports</th>\n      <th>population_reg_sports_share</th>\n      <th>students_reg_sports_share</th>\n      <th>apartment_build</th>\n      <th>apartment_fund_sqm</th>\n    </tr>\n  </thead>\n  <tbody>\n    <tr>\n      <th>0</th>\n      <td>2011-08-20</td>\n      <td>43</td>\n      <td>27.0</td>\n      <td>4.0</td>\n      <td>NaN</td>\n      <td>NaN</td>\n      <td>NaN</td>\n      <td>NaN</td>\n      <td>NaN</td>\n      <td>NaN</td>\n      <td>...</td>\n      <td>271.0</td>\n      <td>6943.0</td>\n      <td>565.0</td>\n      <td>0.45356</td>\n      <td>1240.0</td>\n      <td>269768.0</td>\n      <td>22.37</td>\n      <td>64.12</td>\n      <td>23587.0</td>\n      <td>230310.0</td>\n    </tr>\n    <tr>\n      <th>1</th>\n      <td>2011-08-23</td>\n      <td>34</td>\n      <td>19.0</td>\n      <td>3.0</td>\n      <td>NaN</td>\n      <td>NaN</td>\n      <td>NaN</td>\n      <td>NaN</td>\n      <td>NaN</td>\n      <td>NaN</td>\n      <td>...</td>\n      <td>271.0</td>\n      <td>6943.0</td>\n      <td>565.0</td>\n      <td>0.45356</td>\n      <td>1240.0</td>\n      <td>269768.0</td>\n      <td>22.37</td>\n      <td>64.12</td>\n      <td>23587.0</td>\n      <td>230310.0</td>\n    </tr>\n    <tr>\n      <th>2</th>\n      <td>2011-08-27</td>\n      <td>43</td>\n      <td>29.0</td>\n      <td>2.0</td>\n      <td>NaN</td>\n      <td>NaN</td>\n      <td>NaN</td>\n      <td>NaN</td>\n      <td>NaN</td>\n      <td>NaN</td>\n      <td>...</td>\n      <td>271.0</td>\n      <td>6943.0</td>\n      <td>565.0</td>\n      <td>0.45356</td>\n      <td>1240.0</td>\n      <td>269768.0</td>\n      <td>22.37</td>\n      <td>64.12</td>\n      <td>23587.0</td>\n      <td>230310.0</td>\n    </tr>\n    <tr>\n      <th>3</th>\n      <td>2011-09-01</td>\n      <td>89</td>\n      <td>50.0</td>\n      <td>9.0</td>\n      <td>NaN</td>\n      <td>NaN</td>\n      <td>NaN</td>\n      <td>NaN</td>\n      <td>NaN</td>\n      <td>NaN</td>\n      <td>...</td>\n      <td>271.0</td>\n      <td>6943.0</td>\n      <td>565.0</td>\n      <td>0.45356</td>\n      <td>1240.0</td>\n      <td>269768.0</td>\n      <td>22.37</td>\n      <td>64.12</td>\n      <td>23587.0</td>\n      <td>230310.0</td>\n    </tr>\n    <tr>\n      <th>4</th>\n      <td>2011-09-05</td>\n      <td>77</td>\n      <td>77.0</td>\n      <td>4.0</td>\n      <td>NaN</td>\n      <td>NaN</td>\n      <td>NaN</td>\n      <td>NaN</td>\n      <td>NaN</td>\n      <td>NaN</td>\n      <td>...</td>\n      <td>271.0</td>\n      <td>6943.0</td>\n      <td>565.0</td>\n      <td>0.45356</td>\n      <td>1240.0</td>\n      <td>269768.0</td>\n      <td>22.37</td>\n      <td>64.12</td>\n      <td>23587.0</td>\n      <td>230310.0</td>\n    </tr>\n  </tbody>\n</table>\n<p>5 rows × 390 columns</p>\n</div>"
     },
     "execution_count": 10,
     "metadata": {},
     "output_type": "execute_result"
    }
   ],
   "source": [
    "df.head()"
   ],
   "metadata": {
    "collapsed": false,
    "ExecuteTime": {
     "end_time": "2024-03-26T03:51:30.459579Z",
     "start_time": "2024-03-26T03:51:30.440944Z"
    }
   },
   "id": "379d0d54519c3e9d",
   "execution_count": 10
  },
  {
   "cell_type": "code",
   "outputs": [
    {
     "data": {
      "text/plain": "timestamp                          0\nfull_sq                            0\nlife_sq                         6383\nfloor                            167\nmax_floor                       9572\n                               ...  \nbandwidth_sports                   0\npopulation_reg_sports_share     3239\nstudents_reg_sports_share      16901\napartment_build                 3239\napartment_fund_sqm                 0\nLength: 390, dtype: int64"
     },
     "execution_count": 11,
     "metadata": {},
     "output_type": "execute_result"
    }
   ],
   "source": [
    "df.isnull().sum()"
   ],
   "metadata": {
    "collapsed": false,
    "ExecuteTime": {
     "end_time": "2024-03-26T03:51:32.173726Z",
     "start_time": "2024-03-26T03:51:32.124670Z"
    }
   },
   "id": "37ba222da8833ccb",
   "execution_count": 11
  },
  {
   "cell_type": "code",
   "outputs": [
    {
     "data": {
      "text/plain": "(30471, 310)"
     },
     "execution_count": 12,
     "metadata": {},
     "output_type": "execute_result"
    }
   ],
   "source": [
    "df = remove_columns_with_missing_data(df, 5)\n",
    "df.shape"
   ],
   "metadata": {
    "collapsed": false,
    "ExecuteTime": {
     "end_time": "2024-03-26T03:51:36.687962Z",
     "start_time": "2024-03-26T03:51:33.613207Z"
    }
   },
   "id": "19816e573a89faaa",
   "execution_count": 12
  },
  {
   "cell_type": "code",
   "outputs": [],
   "source": [
    "df = mean_filling_missing_data(df)\n",
    "df.describe()"
   ],
   "metadata": {
    "collapsed": false
   },
   "id": "aae4756d5881255e",
   "execution_count": null
  },
  {
   "cell_type": "markdown",
   "source": [
    "CONSTRUCT HEATMAP AND CORR MATRIX"
   ],
   "metadata": {
    "collapsed": false
   },
   "id": "ee427d31524bcbbf"
  },
  {
   "cell_type": "code",
   "outputs": [
    {
     "ename": "NameError",
     "evalue": "name 'sns' is not defined",
     "output_type": "error",
     "traceback": [
      "\u001B[1;31m---------------------------------------------------------------------------\u001B[0m",
      "\u001B[1;31mNameError\u001B[0m                                 Traceback (most recent call last)",
      "Cell \u001B[1;32mIn[14], line 2\u001B[0m\n\u001B[0;32m      1\u001B[0m \u001B[38;5;66;03m# construct heatmap and corr matrix\u001B[39;00m\n\u001B[1;32m----> 2\u001B[0m \u001B[43mconstruct_heatmap\u001B[49m\u001B[43m(\u001B[49m\u001B[43mdf\u001B[49m\u001B[43m)\u001B[49m\n",
      "Cell \u001B[1;32mIn[4], line 72\u001B[0m, in \u001B[0;36mconstruct_heatmap\u001B[1;34m(df)\u001B[0m\n\u001B[0;32m     70\u001B[0m \u001B[38;5;28;01mexcept\u001B[39;00m:\n\u001B[0;32m     71\u001B[0m     \u001B[38;5;28;01mpass\u001B[39;00m\n\u001B[1;32m---> 72\u001B[0m \u001B[43msns\u001B[49m\u001B[38;5;241m.\u001B[39mheatmap(corr_matrix\u001B[38;5;241m.\u001B[39mcorr())\n",
      "\u001B[1;31mNameError\u001B[0m: name 'sns' is not defined"
     ]
    }
   ],
   "source": [
    "construct_heatmap(df)"
   ],
   "metadata": {
    "collapsed": false,
    "ExecuteTime": {
     "end_time": "2024-03-26T03:51:41.674973Z",
     "start_time": "2024-03-26T03:51:41.083630Z"
    }
   },
   "id": "53a5f051ff663078",
   "execution_count": 14
  },
  {
   "cell_type": "markdown",
   "source": [
    "REMOVE EXTRA DATA"
   ],
   "metadata": {
    "collapsed": false
   },
   "id": "fa4aea1d0009483d"
  },
  {
   "cell_type": "code",
   "outputs": [
    {
     "data": {
      "text/plain": "        timestamp  full_sq  floor   product_type  \\\n0      2011-08-20       43    4.0     Investment   \n1      2011-08-23       34    3.0     Investment   \n2      2011-08-27       43    2.0     Investment   \n3      2011-09-01       89    9.0     Investment   \n4      2011-09-05       77    4.0     Investment   \n...           ...      ...    ...            ...   \n30466  2015-06-30       44    7.0     Investment   \n30467  2015-06-30       86    3.0     Investment   \n30468  2015-06-30       45   10.0  OwnerOccupier   \n30469  2015-06-30       64    5.0     Investment   \n30470  2015-06-30       43    1.0     Investment   \n\n       school_education_centers_top_20_raion  healthcare_centers_raion  \\\n0                                          0                         1   \n1                                          0                         1   \n2                                          0                         1   \n3                                          0                         1   \n4                                          0                         4   \n...                                      ...                       ...   \n30466                                      0                         1   \n30467                                      1                         3   \n30468                                      0                         0   \n30469                                      0                         2   \n30470                                      0                         2   \n\n      thermal_power_plant_raion incineration_raion oil_chemistry_raion  \\\n0                            no                 no                  no   \n1                            no                 no                  no   \n2                            no                 no                  no   \n3                            no                 no                  no   \n4                            no                 no                  no   \n...                         ...                ...                 ...   \n30466                        no                yes                  no   \n30467                        no                 no                  no   \n30468                        no                 no                  no   \n30469                        no                 no                  no   \n30470                        no                 no                  no   \n\n      radiation_raion  ... mosque_count_500 leisure_count_500 price_doc  \\\n0                  no  ...                0                 0   5850000   \n1                  no  ...                0                 0   6000000   \n2                 yes  ...                0                 0   5700000   \n3                  no  ...                0                 0  13100000   \n4                 yes  ...                0                 2  16331452   \n...               ...  ...              ...               ...       ...   \n30466             yes  ...                0                 0   7400000   \n30467             yes  ...                0                 1  25000000   \n30468              no  ...                0                 0   6970959   \n30469             yes  ...                0                 0  13500000   \n30470             yes  ...                0                 4   5600000   \n\n       balance_trade_growth  average_provision_of_build_contract_moscow  \\\n0                      10.1                                        6.74   \n1                      10.1                                        6.74   \n2                      10.1                                        6.74   \n3                      10.1                                        6.74   \n4                      10.1                                        6.74   \n...                     ...                                         ...   \n30466                  32.9                                        7.13   \n30467                  32.9                                        7.13   \n30468                  32.9                                        7.13   \n30469                  32.9                                        7.13   \n30470                  32.9                                        7.13   \n\n       deposits_growth  income_per_cap  rent_price_4+room_bus  \\\n0             0.009740         42688.6                 136.11   \n1             0.009740         42688.6                 136.11   \n2             0.009740         42688.6                 136.11   \n3             0.009607         40311.3                 155.22   \n4             0.018590         40311.3                 155.22   \n...                ...             ...                    ...   \n30466         0.013085         60050.0                 167.37   \n30467         0.013085         60050.0                 167.37   \n30468         0.013085         60050.0                 167.37   \n30469         0.013085         60050.0                 167.37   \n30470         0.013085         60050.0                 167.37   \n\n      rent_price_2room_eco  rent_price_1room_eco  \n0                    36.77                 29.07  \n1                    36.77                 29.07  \n2                    36.77                 29.07  \n3                    37.73                 30.63  \n4                    37.73                 30.63  \n...                    ...                   ...  \n30466                38.91                 30.29  \n30467                38.91                 30.29  \n30468                38.91                 30.29  \n30469                38.91                 30.29  \n30470                38.91                 30.29  \n\n[30471 rows x 36 columns]",
      "text/html": "<div>\n<style scoped>\n    .dataframe tbody tr th:only-of-type {\n        vertical-align: middle;\n    }\n\n    .dataframe tbody tr th {\n        vertical-align: top;\n    }\n\n    .dataframe thead th {\n        text-align: right;\n    }\n</style>\n<table border=\"1\" class=\"dataframe\">\n  <thead>\n    <tr style=\"text-align: right;\">\n      <th></th>\n      <th>timestamp</th>\n      <th>full_sq</th>\n      <th>floor</th>\n      <th>product_type</th>\n      <th>school_education_centers_top_20_raion</th>\n      <th>healthcare_centers_raion</th>\n      <th>thermal_power_plant_raion</th>\n      <th>incineration_raion</th>\n      <th>oil_chemistry_raion</th>\n      <th>radiation_raion</th>\n      <th>...</th>\n      <th>mosque_count_500</th>\n      <th>leisure_count_500</th>\n      <th>price_doc</th>\n      <th>balance_trade_growth</th>\n      <th>average_provision_of_build_contract_moscow</th>\n      <th>deposits_growth</th>\n      <th>income_per_cap</th>\n      <th>rent_price_4+room_bus</th>\n      <th>rent_price_2room_eco</th>\n      <th>rent_price_1room_eco</th>\n    </tr>\n  </thead>\n  <tbody>\n    <tr>\n      <th>0</th>\n      <td>2011-08-20</td>\n      <td>43</td>\n      <td>4.0</td>\n      <td>Investment</td>\n      <td>0</td>\n      <td>1</td>\n      <td>no</td>\n      <td>no</td>\n      <td>no</td>\n      <td>no</td>\n      <td>...</td>\n      <td>0</td>\n      <td>0</td>\n      <td>5850000</td>\n      <td>10.1</td>\n      <td>6.74</td>\n      <td>0.009740</td>\n      <td>42688.6</td>\n      <td>136.11</td>\n      <td>36.77</td>\n      <td>29.07</td>\n    </tr>\n    <tr>\n      <th>1</th>\n      <td>2011-08-23</td>\n      <td>34</td>\n      <td>3.0</td>\n      <td>Investment</td>\n      <td>0</td>\n      <td>1</td>\n      <td>no</td>\n      <td>no</td>\n      <td>no</td>\n      <td>no</td>\n      <td>...</td>\n      <td>0</td>\n      <td>0</td>\n      <td>6000000</td>\n      <td>10.1</td>\n      <td>6.74</td>\n      <td>0.009740</td>\n      <td>42688.6</td>\n      <td>136.11</td>\n      <td>36.77</td>\n      <td>29.07</td>\n    </tr>\n    <tr>\n      <th>2</th>\n      <td>2011-08-27</td>\n      <td>43</td>\n      <td>2.0</td>\n      <td>Investment</td>\n      <td>0</td>\n      <td>1</td>\n      <td>no</td>\n      <td>no</td>\n      <td>no</td>\n      <td>yes</td>\n      <td>...</td>\n      <td>0</td>\n      <td>0</td>\n      <td>5700000</td>\n      <td>10.1</td>\n      <td>6.74</td>\n      <td>0.009740</td>\n      <td>42688.6</td>\n      <td>136.11</td>\n      <td>36.77</td>\n      <td>29.07</td>\n    </tr>\n    <tr>\n      <th>3</th>\n      <td>2011-09-01</td>\n      <td>89</td>\n      <td>9.0</td>\n      <td>Investment</td>\n      <td>0</td>\n      <td>1</td>\n      <td>no</td>\n      <td>no</td>\n      <td>no</td>\n      <td>no</td>\n      <td>...</td>\n      <td>0</td>\n      <td>0</td>\n      <td>13100000</td>\n      <td>10.1</td>\n      <td>6.74</td>\n      <td>0.009607</td>\n      <td>40311.3</td>\n      <td>155.22</td>\n      <td>37.73</td>\n      <td>30.63</td>\n    </tr>\n    <tr>\n      <th>4</th>\n      <td>2011-09-05</td>\n      <td>77</td>\n      <td>4.0</td>\n      <td>Investment</td>\n      <td>0</td>\n      <td>4</td>\n      <td>no</td>\n      <td>no</td>\n      <td>no</td>\n      <td>yes</td>\n      <td>...</td>\n      <td>0</td>\n      <td>2</td>\n      <td>16331452</td>\n      <td>10.1</td>\n      <td>6.74</td>\n      <td>0.018590</td>\n      <td>40311.3</td>\n      <td>155.22</td>\n      <td>37.73</td>\n      <td>30.63</td>\n    </tr>\n    <tr>\n      <th>...</th>\n      <td>...</td>\n      <td>...</td>\n      <td>...</td>\n      <td>...</td>\n      <td>...</td>\n      <td>...</td>\n      <td>...</td>\n      <td>...</td>\n      <td>...</td>\n      <td>...</td>\n      <td>...</td>\n      <td>...</td>\n      <td>...</td>\n      <td>...</td>\n      <td>...</td>\n      <td>...</td>\n      <td>...</td>\n      <td>...</td>\n      <td>...</td>\n      <td>...</td>\n      <td>...</td>\n    </tr>\n    <tr>\n      <th>30466</th>\n      <td>2015-06-30</td>\n      <td>44</td>\n      <td>7.0</td>\n      <td>Investment</td>\n      <td>0</td>\n      <td>1</td>\n      <td>no</td>\n      <td>yes</td>\n      <td>no</td>\n      <td>yes</td>\n      <td>...</td>\n      <td>0</td>\n      <td>0</td>\n      <td>7400000</td>\n      <td>32.9</td>\n      <td>7.13</td>\n      <td>0.013085</td>\n      <td>60050.0</td>\n      <td>167.37</td>\n      <td>38.91</td>\n      <td>30.29</td>\n    </tr>\n    <tr>\n      <th>30467</th>\n      <td>2015-06-30</td>\n      <td>86</td>\n      <td>3.0</td>\n      <td>Investment</td>\n      <td>1</td>\n      <td>3</td>\n      <td>no</td>\n      <td>no</td>\n      <td>no</td>\n      <td>yes</td>\n      <td>...</td>\n      <td>0</td>\n      <td>1</td>\n      <td>25000000</td>\n      <td>32.9</td>\n      <td>7.13</td>\n      <td>0.013085</td>\n      <td>60050.0</td>\n      <td>167.37</td>\n      <td>38.91</td>\n      <td>30.29</td>\n    </tr>\n    <tr>\n      <th>30468</th>\n      <td>2015-06-30</td>\n      <td>45</td>\n      <td>10.0</td>\n      <td>OwnerOccupier</td>\n      <td>0</td>\n      <td>0</td>\n      <td>no</td>\n      <td>no</td>\n      <td>no</td>\n      <td>no</td>\n      <td>...</td>\n      <td>0</td>\n      <td>0</td>\n      <td>6970959</td>\n      <td>32.9</td>\n      <td>7.13</td>\n      <td>0.013085</td>\n      <td>60050.0</td>\n      <td>167.37</td>\n      <td>38.91</td>\n      <td>30.29</td>\n    </tr>\n    <tr>\n      <th>30469</th>\n      <td>2015-06-30</td>\n      <td>64</td>\n      <td>5.0</td>\n      <td>Investment</td>\n      <td>0</td>\n      <td>2</td>\n      <td>no</td>\n      <td>no</td>\n      <td>no</td>\n      <td>yes</td>\n      <td>...</td>\n      <td>0</td>\n      <td>0</td>\n      <td>13500000</td>\n      <td>32.9</td>\n      <td>7.13</td>\n      <td>0.013085</td>\n      <td>60050.0</td>\n      <td>167.37</td>\n      <td>38.91</td>\n      <td>30.29</td>\n    </tr>\n    <tr>\n      <th>30470</th>\n      <td>2015-06-30</td>\n      <td>43</td>\n      <td>1.0</td>\n      <td>Investment</td>\n      <td>0</td>\n      <td>2</td>\n      <td>no</td>\n      <td>no</td>\n      <td>no</td>\n      <td>yes</td>\n      <td>...</td>\n      <td>0</td>\n      <td>4</td>\n      <td>5600000</td>\n      <td>32.9</td>\n      <td>7.13</td>\n      <td>0.013085</td>\n      <td>60050.0</td>\n      <td>167.37</td>\n      <td>38.91</td>\n      <td>30.29</td>\n    </tr>\n  </tbody>\n</table>\n<p>30471 rows × 36 columns</p>\n</div>"
     },
     "execution_count": 15,
     "metadata": {},
     "output_type": "execute_result"
    }
   ],
   "source": [
    "df = remove_corr_data(df,0.6)\n",
    "df.shape\n",
    "df"
   ],
   "metadata": {
    "collapsed": false,
    "ExecuteTime": {
     "end_time": "2024-03-26T03:52:00.252119Z",
     "start_time": "2024-03-26T03:51:53.189061Z"
    }
   },
   "id": "6fa034c97f6e4db7",
   "execution_count": 15
  },
  {
   "cell_type": "code",
   "outputs": [
    {
     "data": {
      "text/plain": "            full_sq         floor  school_education_centers_top_20_raion  \\\ncount  30471.000000  30471.000000                           30471.000000   \nmean      54.214269      7.670803                               0.109678   \nstd       38.031487      5.305390                               0.333328   \nmin        0.000000      0.000000                               0.000000   \n25%       38.000000      3.000000                               0.000000   \n50%       49.000000      7.000000                               0.000000   \n75%       63.000000     11.000000                               0.000000   \nmax     5326.000000     77.000000                               2.000000   \n\n       healthcare_centers_raion      ID_metro  green_zone_km  industrial_km  \\\ncount              30471.000000  30471.000000   30471.000000   30471.000000   \nmean                   1.320895     72.484198       0.300511       0.768831   \nstd                    1.492903     54.902277       0.298402       0.717953   \nmin                    0.000000      1.000000       0.000000       0.000000   \n25%                    0.000000     27.000000       0.100951       0.288289   \n50%                    1.000000     53.000000       0.214336       0.576464   \n75%                    2.000000    108.000000       0.415498       1.041085   \nmax                    6.000000    223.000000       1.982448      14.048162   \n\n        cemetery_km      water_km  big_road1_km  ...  mosque_count_500  \\\ncount  30471.000000  30471.000000  30471.000000  ...      30471.000000   \nmean       2.314765      0.690947      1.881276  ...          0.004890   \nstd        1.451071      0.434919      1.297188  ...          0.069758   \nmin        0.000000      0.006707      0.000364  ...          0.000000   \n25%        1.334801      0.339637      0.779029  ...          0.000000   \n50%        1.968520      0.621221      1.724121  ...          0.000000   \n75%        3.089480      0.963865      2.806196  ...          0.000000   \nmax       15.778710      2.827709      6.995416  ...          1.000000   \n\n       leisure_count_500     price_doc  balance_trade_growth  \\\ncount       30471.000000  3.047100e+04          30471.000000   \nmean            0.070592  7.123035e+06             22.612130   \nstd             0.386393  4.780111e+06             18.372021   \nmin             0.000000  1.000000e+05              4.600000   \n25%             0.000000  4.740002e+06              7.600000   \n50%             0.000000  6.274411e+06             16.800000   \n75%             0.000000  8.300000e+06             32.900000   \nmax             9.000000  1.111111e+08             75.800000   \n\n       average_provision_of_build_contract_moscow  deposits_growth  \\\ncount                                30471.000000     30471.000000   \nmean                                     6.416008         0.010073   \nstd                                      0.296318         0.016796   \nmin                                      5.960000        -0.020356   \n25%                                      6.180000         0.000815   \n50%                                      6.390000         0.007563   \n75%                                      6.650000         0.022422   \nmax                                      7.130000         0.073227   \n\n       income_per_cap  rent_price_4+room_bus  rent_price_2room_eco  \\\ncount    30471.000000           30471.000000          30471.000000   \nmean     55778.022835             163.273194             41.012331   \nstd      13041.480788              20.473868              4.171537   \nmin      33194.000000             100.080000              0.100000   \n25%      47334.000000             149.100000             40.830000   \n50%      52740.400000             160.690000             41.440000   \n75%      58779.100000             174.220000             42.100000   \nmax      89252.000000             212.870000             43.850000   \n\n       rent_price_1room_eco  \ncount          30471.000000  \nmean              32.638114  \nstd                4.227862  \nmin                2.310000  \n25%               32.610000  \n50%               33.100000  \n75%               34.330000  \nmax               35.370000  \n\n[8 rows x 24 columns]",
      "text/html": "<div>\n<style scoped>\n    .dataframe tbody tr th:only-of-type {\n        vertical-align: middle;\n    }\n\n    .dataframe tbody tr th {\n        vertical-align: top;\n    }\n\n    .dataframe thead th {\n        text-align: right;\n    }\n</style>\n<table border=\"1\" class=\"dataframe\">\n  <thead>\n    <tr style=\"text-align: right;\">\n      <th></th>\n      <th>full_sq</th>\n      <th>floor</th>\n      <th>school_education_centers_top_20_raion</th>\n      <th>healthcare_centers_raion</th>\n      <th>ID_metro</th>\n      <th>green_zone_km</th>\n      <th>industrial_km</th>\n      <th>cemetery_km</th>\n      <th>water_km</th>\n      <th>big_road1_km</th>\n      <th>...</th>\n      <th>mosque_count_500</th>\n      <th>leisure_count_500</th>\n      <th>price_doc</th>\n      <th>balance_trade_growth</th>\n      <th>average_provision_of_build_contract_moscow</th>\n      <th>deposits_growth</th>\n      <th>income_per_cap</th>\n      <th>rent_price_4+room_bus</th>\n      <th>rent_price_2room_eco</th>\n      <th>rent_price_1room_eco</th>\n    </tr>\n  </thead>\n  <tbody>\n    <tr>\n      <th>count</th>\n      <td>30471.000000</td>\n      <td>30471.000000</td>\n      <td>30471.000000</td>\n      <td>30471.000000</td>\n      <td>30471.000000</td>\n      <td>30471.000000</td>\n      <td>30471.000000</td>\n      <td>30471.000000</td>\n      <td>30471.000000</td>\n      <td>30471.000000</td>\n      <td>...</td>\n      <td>30471.000000</td>\n      <td>30471.000000</td>\n      <td>3.047100e+04</td>\n      <td>30471.000000</td>\n      <td>30471.000000</td>\n      <td>30471.000000</td>\n      <td>30471.000000</td>\n      <td>30471.000000</td>\n      <td>30471.000000</td>\n      <td>30471.000000</td>\n    </tr>\n    <tr>\n      <th>mean</th>\n      <td>54.214269</td>\n      <td>7.670803</td>\n      <td>0.109678</td>\n      <td>1.320895</td>\n      <td>72.484198</td>\n      <td>0.300511</td>\n      <td>0.768831</td>\n      <td>2.314765</td>\n      <td>0.690947</td>\n      <td>1.881276</td>\n      <td>...</td>\n      <td>0.004890</td>\n      <td>0.070592</td>\n      <td>7.123035e+06</td>\n      <td>22.612130</td>\n      <td>6.416008</td>\n      <td>0.010073</td>\n      <td>55778.022835</td>\n      <td>163.273194</td>\n      <td>41.012331</td>\n      <td>32.638114</td>\n    </tr>\n    <tr>\n      <th>std</th>\n      <td>38.031487</td>\n      <td>5.305390</td>\n      <td>0.333328</td>\n      <td>1.492903</td>\n      <td>54.902277</td>\n      <td>0.298402</td>\n      <td>0.717953</td>\n      <td>1.451071</td>\n      <td>0.434919</td>\n      <td>1.297188</td>\n      <td>...</td>\n      <td>0.069758</td>\n      <td>0.386393</td>\n      <td>4.780111e+06</td>\n      <td>18.372021</td>\n      <td>0.296318</td>\n      <td>0.016796</td>\n      <td>13041.480788</td>\n      <td>20.473868</td>\n      <td>4.171537</td>\n      <td>4.227862</td>\n    </tr>\n    <tr>\n      <th>min</th>\n      <td>0.000000</td>\n      <td>0.000000</td>\n      <td>0.000000</td>\n      <td>0.000000</td>\n      <td>1.000000</td>\n      <td>0.000000</td>\n      <td>0.000000</td>\n      <td>0.000000</td>\n      <td>0.006707</td>\n      <td>0.000364</td>\n      <td>...</td>\n      <td>0.000000</td>\n      <td>0.000000</td>\n      <td>1.000000e+05</td>\n      <td>4.600000</td>\n      <td>5.960000</td>\n      <td>-0.020356</td>\n      <td>33194.000000</td>\n      <td>100.080000</td>\n      <td>0.100000</td>\n      <td>2.310000</td>\n    </tr>\n    <tr>\n      <th>25%</th>\n      <td>38.000000</td>\n      <td>3.000000</td>\n      <td>0.000000</td>\n      <td>0.000000</td>\n      <td>27.000000</td>\n      <td>0.100951</td>\n      <td>0.288289</td>\n      <td>1.334801</td>\n      <td>0.339637</td>\n      <td>0.779029</td>\n      <td>...</td>\n      <td>0.000000</td>\n      <td>0.000000</td>\n      <td>4.740002e+06</td>\n      <td>7.600000</td>\n      <td>6.180000</td>\n      <td>0.000815</td>\n      <td>47334.000000</td>\n      <td>149.100000</td>\n      <td>40.830000</td>\n      <td>32.610000</td>\n    </tr>\n    <tr>\n      <th>50%</th>\n      <td>49.000000</td>\n      <td>7.000000</td>\n      <td>0.000000</td>\n      <td>1.000000</td>\n      <td>53.000000</td>\n      <td>0.214336</td>\n      <td>0.576464</td>\n      <td>1.968520</td>\n      <td>0.621221</td>\n      <td>1.724121</td>\n      <td>...</td>\n      <td>0.000000</td>\n      <td>0.000000</td>\n      <td>6.274411e+06</td>\n      <td>16.800000</td>\n      <td>6.390000</td>\n      <td>0.007563</td>\n      <td>52740.400000</td>\n      <td>160.690000</td>\n      <td>41.440000</td>\n      <td>33.100000</td>\n    </tr>\n    <tr>\n      <th>75%</th>\n      <td>63.000000</td>\n      <td>11.000000</td>\n      <td>0.000000</td>\n      <td>2.000000</td>\n      <td>108.000000</td>\n      <td>0.415498</td>\n      <td>1.041085</td>\n      <td>3.089480</td>\n      <td>0.963865</td>\n      <td>2.806196</td>\n      <td>...</td>\n      <td>0.000000</td>\n      <td>0.000000</td>\n      <td>8.300000e+06</td>\n      <td>32.900000</td>\n      <td>6.650000</td>\n      <td>0.022422</td>\n      <td>58779.100000</td>\n      <td>174.220000</td>\n      <td>42.100000</td>\n      <td>34.330000</td>\n    </tr>\n    <tr>\n      <th>max</th>\n      <td>5326.000000</td>\n      <td>77.000000</td>\n      <td>2.000000</td>\n      <td>6.000000</td>\n      <td>223.000000</td>\n      <td>1.982448</td>\n      <td>14.048162</td>\n      <td>15.778710</td>\n      <td>2.827709</td>\n      <td>6.995416</td>\n      <td>...</td>\n      <td>1.000000</td>\n      <td>9.000000</td>\n      <td>1.111111e+08</td>\n      <td>75.800000</td>\n      <td>7.130000</td>\n      <td>0.073227</td>\n      <td>89252.000000</td>\n      <td>212.870000</td>\n      <td>43.850000</td>\n      <td>35.370000</td>\n    </tr>\n  </tbody>\n</table>\n<p>8 rows × 24 columns</p>\n</div>"
     },
     "execution_count": 16,
     "metadata": {},
     "output_type": "execute_result"
    }
   ],
   "source": [
    "df.describe()"
   ],
   "metadata": {
    "collapsed": false,
    "ExecuteTime": {
     "end_time": "2024-03-26T03:52:02.407705Z",
     "start_time": "2024-03-26T03:52:02.332857Z"
    }
   },
   "id": "15ed99ebe75127d",
   "execution_count": 16
  },
  {
   "cell_type": "code",
   "outputs": [
    {
     "ename": "NameError",
     "evalue": "name 'sns' is not defined",
     "output_type": "error",
     "traceback": [
      "\u001B[1;31m---------------------------------------------------------------------------\u001B[0m",
      "\u001B[1;31mNameError\u001B[0m                                 Traceback (most recent call last)",
      "Cell \u001B[1;32mIn[17], line 1\u001B[0m\n\u001B[1;32m----> 1\u001B[0m \u001B[43mconstruct_heatmap\u001B[49m\u001B[43m(\u001B[49m\u001B[43mdf\u001B[49m\u001B[43m)\u001B[49m\n",
      "Cell \u001B[1;32mIn[4], line 72\u001B[0m, in \u001B[0;36mconstruct_heatmap\u001B[1;34m(df)\u001B[0m\n\u001B[0;32m     70\u001B[0m \u001B[38;5;28;01mexcept\u001B[39;00m:\n\u001B[0;32m     71\u001B[0m     \u001B[38;5;28;01mpass\u001B[39;00m\n\u001B[1;32m---> 72\u001B[0m \u001B[43msns\u001B[49m\u001B[38;5;241m.\u001B[39mheatmap(corr_matrix\u001B[38;5;241m.\u001B[39mcorr())\n",
      "\u001B[1;31mNameError\u001B[0m: name 'sns' is not defined"
     ]
    }
   ],
   "source": [
    "construct_heatmap(df)"
   ],
   "metadata": {
    "collapsed": false,
    "ExecuteTime": {
     "end_time": "2024-03-26T03:52:03.554588Z",
     "start_time": "2024-03-26T03:52:03.505210Z"
    }
   },
   "id": "52c27f3ba048f090",
   "execution_count": 17
  },
  {
   "cell_type": "code",
   "outputs": [
    {
     "data": {
      "text/plain": "{dtype('int64'), dtype('float64'), dtype('O')}"
     },
     "execution_count": 18,
     "metadata": {},
     "output_type": "execute_result"
    }
   ],
   "source": [
    "set(df.dtypes)"
   ],
   "metadata": {
    "collapsed": false,
    "ExecuteTime": {
     "end_time": "2024-03-26T03:52:05.402170Z",
     "start_time": "2024-03-26T03:52:05.395713Z"
    }
   },
   "id": "ed90c63e1162a9db",
   "execution_count": 18
  },
  {
   "cell_type": "code",
   "outputs": [],
   "source": [
    "plot_data(df)"
   ],
   "metadata": {
    "collapsed": false,
    "ExecuteTime": {
     "end_time": "2024-03-28T20:35:21.267281Z",
     "start_time": "2024-03-28T20:35:21.261948Z"
    }
   },
   "id": "ada6ada74cc5f0c3",
   "execution_count": 1
  },
  {
   "cell_type": "markdown",
   "source": [
    "SAVE DATASET FOR REG_MODEL "
   ],
   "metadata": {
    "collapsed": false
   },
   "id": "32bfb54ce65101c5"
  },
  {
   "cell_type": "code",
   "outputs": [],
   "source": [
    "df.to_csv('datasets/out_dataset_2_porog_60.csv', index=False) "
   ],
   "metadata": {
    "collapsed": false,
    "ExecuteTime": {
     "end_time": "2024-03-25T08:43:42.394281Z",
     "start_time": "2024-03-25T08:43:41.283841Z"
    }
   },
   "id": "2f71e6179af0eaab",
   "execution_count": 188
  },
  {
   "cell_type": "markdown",
   "source": [
    "ANALIZ DATA FOR CAT_DATASET"
   ],
   "metadata": {
    "collapsed": false
   },
   "id": "f1bcde83402d930f"
  },
  {
   "cell_type": "code",
   "outputs": [
    {
     "name": "stdout",
     "output_type": "stream",
     "text": [
      "<class 'pandas.core.series.Series'>\n",
      "RangeIndex: 30471 entries, 0 to 30470\n",
      "Series name: price_doc\n",
      "Non-Null Count  Dtype\n",
      "--------------  -----\n",
      "30471 non-null  int64\n",
      "dtypes: int64(1)\n",
      "memory usage: 238.2 KB\n"
     ]
    }
   ],
   "source": [
    "df['price_doc'].info()"
   ],
   "metadata": {
    "collapsed": false,
    "ExecuteTime": {
     "end_time": "2024-03-26T03:52:23.230024Z",
     "start_time": "2024-03-26T03:52:23.220305Z"
    }
   },
   "id": "2eff2d8d7c51c8da",
   "execution_count": 19
  },
  {
   "cell_type": "code",
   "outputs": [
    {
     "data": {
      "text/plain": "<Figure size 1000x600 with 1 Axes>",
      "image/png": "[encoded data removed]"
     },
     "metadata": {},
     "output_type": "display_data"
    }
   ],
   "source": [
    "visualize_price_distribution(df['price_doc'])"
   ],
   "metadata": {
    "collapsed": false,
    "ExecuteTime": {
     "end_time": "2024-03-26T03:52:24.870785Z",
     "start_time": "2024-03-26T03:52:24.548606Z"
    }
   },
   "id": "fa34b109ee6f3bc3",
   "execution_count": 20
  },
  {
   "cell_type": "code",
   "outputs": [
    {
     "name": "stdout",
     "output_type": "stream",
     "text": [
      "Интервал: (99999.999, 1000000.0], Метка класса: 0\n",
      "Интервал: (1000000.0, 1669748.4], Метка класса: 1\n",
      "Интервал: (1669748.4, 2000000.0], Метка класса: 2\n",
      "Интервал: (2000000.0, 2552421.0], Метка класса: 2\n",
      "Интервал: (2552421.0, 3000000.0], Метка класса: 4\n",
      "Интервал: (3000000.0, 3386385.2], Метка класса: 4\n",
      "Интервал: (3386385.2, 3690164.0], Метка класса: 6\n",
      "Интервал: (3690164.0, 3925806.0], Метка класса: 7\n",
      "Интервал: (3925806.0, 4101772.4], Метка класса: 8\n",
      "Интервал: (4101772.4, 4319500.0], Метка класса: 9\n",
      "Интервал: (4319500.0, 4500000.0], Метка класса: 10\n",
      "Интервал: (4500000.0, 4650000.0], Метка класса: 11\n",
      "Интервал: (4650000.0, 4806371.0], Метка класса: 11\n",
      "Интервал: (4806371.0, 4990000.0], Метка класса: 13\n",
      "Интервал: (4990000.0, 5100000.0], Метка класса: 14\n",
      "Интервал: (5100000.0, 5226412.0], Метка класса: 14\n",
      "Интервал: (5226412.0, 5360000.0], Метка класса: 16\n",
      "Интервал: (5360000.0, 5500000.0], Метка класса: 17\n",
      "Интервал: (5500000.0, 5600000.0], Метка класса: 17\n",
      "Интервал: (5600000.0, 5700000.0], Метка класса: 19\n",
      "Интервал: (5700000.0, 5818133.0], Метка класса: 19\n",
      "Интервал: (5818133.0, 5938503.2], Метка класса: 21\n",
      "Интервал: (5938503.2, 6024020.0], Метка класса: 22\n",
      "Интервал: (6024020.0, 6150600.0], Метка класса: 23\n",
      "Интервал: (6150600.0, 6274411.0], Метка класса: 24\n",
      "Интервал: (6274411.0, 6390000.0], Метка класса: 25\n",
      "Интервал: (6390000.0, 6500000.0], Метка класса: 26\n",
      "Интервал: (6500000.0, 6600000.0], Метка класса: 27\n",
      "Интервал: (6600000.0, 6726686.0], Метка класса: 27\n",
      "Интервал: (6726686.0, 6900000.0], Метка класса: 29\n",
      "Интервал: (6900000.0, 7000000.0], Метка класса: 30\n",
      "Интервал: (7000000.0, 7200000.0], Метка класса: 31\n",
      "Интервал: (7200000.0, 7350000.0], Метка класса: 31\n",
      "Интервал: (7350000.0, 7500000.0], Метка класса: 33\n",
      "Интервал: (7500000.0, 7700000.0], Метка класса: 33\n",
      "Интервал: (7700000.0, 7923741.0], Метка класса: 35\n",
      "Интервал: (7923741.0, 8169766.0], Метка класса: 36\n",
      "Интервал: (8169766.0, 8400000.0], Метка класса: 37\n",
      "Интервал: (8400000.0, 8665095.2], Метка класса: 38\n",
      "Интервал: (8665095.2, 9000000.0], Метка класса: 39\n",
      "Интервал: (9000000.0, 9391032.6], Метка класса: 40\n",
      "Интервал: (9391032.6, 9900000.0], Метка класса: 41\n",
      "Интервал: (9900000.0, 10414315.6], Метка класса: 42\n",
      "Интервал: (10414315.6, 11000000.0], Метка класса: 43\n",
      "Интервал: (11000000.0, 11800000.0], Метка класса: 43\n",
      "Интервал: (11800000.0, 12638292.0], Метка класса: 45\n",
      "Интервал: (12638292.0, 13800000.0], Метка класса: 46\n",
      "Интервал: (13800000.0, 15500000.0], Метка класса: 47\n",
      "Интервал: (15500000.0, 19189160.0], Метка класса: 48\n",
      "Интервал: (19189160.0, 111111112.0], Метка класса: 49\n"
     ]
    }
   ],
   "source": [
    "new_df = split_into_price_ranges(df, 35)"
   ],
   "metadata": {
    "collapsed": false,
    "ExecuteTime": {
     "end_time": "2024-03-26T03:53:13.928314Z",
     "start_time": "2024-03-26T03:53:13.850242Z"
    }
   },
   "id": "69a76f9cdef787f1",
   "execution_count": 22
  },
  {
   "cell_type": "code",
   "outputs": [
    {
     "data": {
      "text/plain": "0        21\n1        22\n2        19\n3        46\n4        48\n         ..\n30466    33\n30467    49\n30468    30\n30469    46\n30470    18\nName: price_group, Length: 30471, dtype: category\nCategories (50, int64): [0 < 1 < 2 < 3 ... 46 < 47 < 48 < 49]"
     },
     "execution_count": 23,
     "metadata": {},
     "output_type": "execute_result"
    }
   ],
   "source": [
    "new_df['price_group']"
   ],
   "metadata": {
    "collapsed": false,
    "ExecuteTime": {
     "end_time": "2024-03-26T03:53:15.664185Z",
     "start_time": "2024-03-26T03:53:15.655811Z"
    }
   },
   "id": "ba8f1d8f80a624a7",
   "execution_count": 23
  },
  {
   "cell_type": "code",
   "outputs": [
    {
     "data": {
      "text/plain": "<Figure size 1000x600 with 1 Axes>",
      "image/png": "[encoded data removed]"
     },
     "metadata": {},
     "output_type": "display_data"
    }
   ],
   "source": [
    "visualize_price_distribution(new_df['price_group'])"
   ],
   "metadata": {
    "collapsed": false,
    "ExecuteTime": {
     "end_time": "2024-03-26T03:53:22.280983Z",
     "start_time": "2024-03-26T03:53:22.036156Z"
    }
   },
   "id": "d0fc906201c29f90",
   "execution_count": 25
  },
  {
   "cell_type": "markdown",
   "source": [
    "SAVE DATASET FOR CAT_MODEL"
   ],
   "metadata": {
    "collapsed": false
   },
   "id": "42bf1be2496dd14d"
  },
  {
   "cell_type": "code",
   "outputs": [],
   "source": [
    "new_df.to_csv('datasets/out_dataset_3_class_porog_60.csv', index=False) "
   ],
   "metadata": {
    "collapsed": false,
    "ExecuteTime": {
     "end_time": "2024-03-26T03:53:35.395759Z",
     "start_time": "2024-03-26T03:53:34.770523Z"
    }
   },
   "id": "49c1234763b45220",
   "execution_count": 26
  }
 ],
 "metadata": {
  "kernelspec": {
   "display_name": "Python 3",
   "language": "python",
   "name": "python3"
  },
  "language_info": {
   "codemirror_mode": {
    "name": "ipython",
    "version": 2
   },
   "file_extension": ".py",
   "mimetype": "text/x-python",
   "name": "python",
   "nbconvert_exporter": "python",
   "pygments_lexer": "ipython2",
   "version": "2.7.6"
  }
 },
 "nbformat": 4,
 "nbformat_minor": 5
}
