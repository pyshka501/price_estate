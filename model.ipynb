{
 "cells": [
  {
   "cell_type": "code",
   "execution_count": null,
   "id": "initial_id",
   "metadata": {
    "collapsed": true
   },
   "outputs": [],
   "source": [
    "!pip install pandas\n",
    "!pip install matplotlib\n",
    "!pip install catboost\n",
    "!pip install scikit-learn  "
   ]
  },
  {
   "cell_type": "markdown",
   "source": [
    "IMPORTS"
   ],
   "metadata": {
    "collapsed": false
   },
   "id": "a60833338ccadfa0"
  },
  {
   "cell_type": "code",
   "outputs": [],
   "source": [
    "import matplotlib.pyplot as plt\n",
    "import numpy as np\n",
    "import pandas as pd\n",
    "# import seaborn as sns\n",
    "from catboost import CatBoostRegressor, Pool, cv \n",
    "from sklearn.model_selection import train_test_split\n",
    "from catboost.utils import get_roc_curve\n",
    "import sklearn\n",
    "from sklearn import metrics\n"
   ],
   "metadata": {
    "collapsed": false,
    "ExecuteTime": {
     "end_time": "2024-03-26T03:49:56.391962Z",
     "start_time": "2024-03-26T03:49:52.308266Z"
    }
   },
   "id": "418dbd22c7346960",
   "execution_count": 4
  },
  {
   "cell_type": "markdown",
   "source": [
    "READ DATASETS"
   ],
   "metadata": {
    "collapsed": false
   },
   "id": "243435c29ac46294"
  },
  {
   "cell_type": "code",
   "outputs": [],
   "source": [
    "df = pd.read_csv('datasets/out_dataset_3_class_porog_60.csv')\n",
    "y = df.pop('price_doc')\n",
    "del df['price_group']\n",
    "cat_features = [i for i, column in enumerate(df.columns) if df[column].dtypes == object]\n",
    "X = df\n"
   ],
   "metadata": {
    "collapsed": false,
    "ExecuteTime": {
     "end_time": "2024-03-27T12:27:13.168066Z",
     "start_time": "2024-03-27T12:27:12.947469Z"
    }
   },
   "id": "19e9d66cc3588b36",
   "execution_count": 42
  },
  {
   "cell_type": "markdown",
   "source": [
    "SPLIT TRAIN AND TEST DATA"
   ],
   "metadata": {
    "collapsed": false
   },
   "id": "f47ef8d6db55143c"
  },
  {
   "cell_type": "code",
   "outputs": [],
   "source": [
    "X_train, X_test, y_train, y_test = train_test_split(X, y, test_size=0.2, random_state=60)"
   ],
   "metadata": {
    "collapsed": false,
    "ExecuteTime": {
     "end_time": "2024-03-27T12:27:14.674083Z",
     "start_time": "2024-03-27T12:27:14.630854Z"
    }
   },
   "id": "fe35fc211d32707c",
   "execution_count": 43
  },
  {
   "cell_type": "code",
   "outputs": [],
   "source": [
    "X_train"
   ],
   "metadata": {
    "collapsed": false
   },
   "id": "f0fce97756f63125",
   "execution_count": null
  },
  {
   "cell_type": "code",
   "outputs": [],
   "source": [
    "train_pool = Pool(X_train, y_train, cat_features=cat_features)\n",
    "test_pool = Pool(X_test, y_test, cat_features=cat_features)"
   ],
   "metadata": {
    "collapsed": false,
    "ExecuteTime": {
     "end_time": "2024-03-27T12:27:17.032184Z",
     "start_time": "2024-03-27T12:27:16.752398Z"
    }
   },
   "id": "b91e0e1dfcbc6156",
   "execution_count": 45
  },
  {
   "cell_type": "markdown",
   "source": [
    "INITIALIZING REGRESSOR"
   ],
   "metadata": {
    "collapsed": false
   },
   "id": "c96e046570508223"
  },
  {
   "cell_type": "code",
   "outputs": [],
   "source": [
    "grid = {\n",
    "    'learning_rate': [0.09, 0.09],\n",
    "    'depth': [6,7,6],\n",
    "    'l2_leaf_reg': [7,1],\n",
    "    'grow_policy': ['SymmetricTree']\n",
    "    \n",
    "}\n",
    "model = CatBoostRegressor(\n",
    "    iterations=7500,  \n",
    "    cat_features=cat_features, \n",
    "    loss_function='RMSE', \n",
    "    early_stopping_rounds=20,\n",
    "    learning_rate=grid['learning_rate'][0], \n",
    "    l2_leaf_reg=grid['l2_leaf_reg'][0], \n",
    "    grow_policy=grid['grow_policy'][0],\n",
    "    depth=grid['depth'][0]\n",
    "    \n",
    "    )"
   ],
   "metadata": {
    "collapsed": false,
    "ExecuteTime": {
     "end_time": "2024-03-27T12:27:38.569560Z",
     "start_time": "2024-03-27T12:27:38.561526Z"
    }
   },
   "id": "f46ef3b36dbf9130",
   "execution_count": 48
  },
  {
   "cell_type": "markdown",
   "source": [
    "FIT REGRESSOR"
   ],
   "metadata": {
    "collapsed": false
   },
   "id": "254a0e46dbeb2689"
  },
  {
   "cell_type": "code",
   "outputs": [],
   "source": [
    "# model.randomized_search(grid, X=train_pool,plot = True)\n",
    "model.fit(\n",
    "          train_pool, \n",
    "          plot=True,\n",
    "          verbose=False  \n",
    "          )"
   ],
   "metadata": {
    "collapsed": false
   },
   "id": "186d784b7b0401c8",
   "execution_count": null
  },
  {
   "cell_type": "markdown",
   "source": [],
   "metadata": {
    "collapsed": false
   },
   "id": "817ed1ad29616b05"
  },
  {
   "cell_type": "markdown",
   "source": [
    "TEST MODEL"
   ],
   "metadata": {
    "collapsed": false
   },
   "id": "55657e46613f2c60"
  },
  {
   "cell_type": "code",
   "outputs": [],
   "source": [
    "\n",
    "predictions = model.predict(Pool(X_test, y_test, cat_features=cat_features))\n",
    "predictions - y_train"
   ],
   "metadata": {
    "collapsed": false,
    "ExecuteTime": {
     "end_time": "2024-03-27T12:31:57.409452Z",
     "start_time": "2024-03-27T12:31:57.330951Z"
    }
   },
   "id": "26a8bc479f69a21",
   "execution_count": 51
  },
  {
   "cell_type": "markdown",
   "source": [
    "METRICS (ACCURACY)"
   ],
   "metadata": {
    "collapsed": false
   },
   "id": "ceb7b87f6882bebf"
  },
  {
   "cell_type": "code",
   "outputs": [],
   "source": [
    "model.score(train_pool), model.score(test_pool)"
   ],
   "metadata": {
    "collapsed": false
   },
   "id": "900854b35dba8aa7",
   "execution_count": null
  },
  {
   "cell_type": "markdown",
   "source": [
    "SAVE MODEL"
   ],
   "metadata": {
    "collapsed": false
   },
   "id": "f6010ad804371b1c"
  },
  {
   "cell_type": "code",
   "outputs": [],
   "source": [
    "model.save_model(\"models/catboost-model-1-acc-64-097-2-new_ver\")"
   ],
   "metadata": {
    "collapsed": false,
    "ExecuteTime": {
     "end_time": "2024-03-26T04:16:41.676056Z",
     "start_time": "2024-03-26T04:16:41.448552Z"
    }
   },
   "id": "a4a61f75f21aea78",
   "execution_count": 23
  },
  {
   "cell_type": "markdown",
   "source": [],
   "metadata": {
    "collapsed": false
   },
   "id": "b5294dbe56b9bfb9"
  }
 ],
 "metadata": {
  "kernelspec": {
   "display_name": "Python 3",
   "language": "python",
   "name": "python3"
  },
  "language_info": {
   "codemirror_mode": {
    "name": "ipython",
    "version": 2
   },
   "file_extension": ".py",
   "mimetype": "text/x-python",
   "name": "python",
   "nbconvert_exporter": "python",
   "pygments_lexer": "ipython2",
   "version": "2.7.6"
  }
 },
 "nbformat": 4,
 "nbformat_minor": 5
}
