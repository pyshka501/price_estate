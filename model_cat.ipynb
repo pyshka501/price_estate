{
 "cells": [
  {
   "cell_type": "code",
   "execution_count": null,
   "id": "initial_id",
   "metadata": {
    "collapsed": true
   },
   "outputs": [],
   "source": [
    "!pip install pandas\n",
    "!pip install matplotlib \n",
    "!pip install catboost\n",
    "!pip install scikit-learn"
   ]
  },
  {
   "cell_type": "markdown",
   "source": [
    "IMPORTS"
   ],
   "metadata": {
    "collapsed": false
   },
   "id": "99fe516d06d4244b"
  },
  {
   "cell_type": "code",
   "outputs": [],
   "source": [
    "import matplotlib.pyplot as plt\n",
    "import pandas as pd\n",
    "from catboost import CatBoostClassifier, Pool, cv \n",
    "from sklearn.model_selection import train_test_split\n",
    "from sklearn.metrics import accuracy_score, f1_score, confusion_matrix, roc_auc_score"
   ],
   "metadata": {
    "collapsed": false,
    "ExecuteTime": {
     "end_time": "2024-03-25T19:41:24.870823Z",
     "start_time": "2024-03-25T19:41:22.953394Z"
    }
   },
   "id": "e74318e1da5a60a3",
   "execution_count": 1
  },
  {
   "cell_type": "markdown",
   "source": [
    "READ DATASETS"
   ],
   "metadata": {
    "collapsed": false
   },
   "id": "50e08774f72f7325"
  },
  {
   "cell_type": "code",
   "outputs": [],
   "source": [
    "df = pd.read_csv('datasets/out_dataset_3_class_porog_60.csv')\n",
    "y = df.pop('price_group')\n",
    "del df['price_doc']\n",
    "cat_features = [i for i, column in enumerate(df.columns) if df[column].dtypes == object]\n",
    "X = df\n"
   ],
   "metadata": {
    "collapsed": false,
    "ExecuteTime": {
     "end_time": "2024-03-26T03:55:06.620759Z",
     "start_time": "2024-03-26T03:55:06.447266Z"
    }
   },
   "id": "577700969a94a528",
   "execution_count": 14
  },
  {
   "cell_type": "markdown",
   "source": [
    "SPLIT TRAIN AND TEST DATA"
   ],
   "metadata": {
    "collapsed": false
   },
   "id": "b96f4293a16dcb5"
  },
  {
   "cell_type": "code",
   "outputs": [],
   "source": [
    "X_train, X_test, y_train, y_test = train_test_split(X, y, test_size=0.3, train_size = 0.7, random_state=0)"
   ],
   "metadata": {
    "collapsed": false,
    "ExecuteTime": {
     "end_time": "2024-03-26T03:55:07.489937Z",
     "start_time": "2024-03-26T03:55:07.458330Z"
    }
   },
   "id": "e93b302cb07408a1",
   "execution_count": 15
  },
  {
   "cell_type": "code",
   "outputs": [],
   "source": [
    "train_pool = Pool(X_train, y_train, cat_features=cat_features)\n",
    "test_pool = Pool(X_test, y_test, cat_features=cat_features)"
   ],
   "metadata": {
    "collapsed": false,
    "ExecuteTime": {
     "end_time": "2024-03-26T03:55:08.264345Z",
     "start_time": "2024-03-26T03:55:08.106118Z"
    }
   },
   "id": "8e22c387b9e772d2",
   "execution_count": 16
  },
  {
   "cell_type": "markdown",
   "source": [
    "INITIALIZING CLASSIFIER"
   ],
   "metadata": {
    "collapsed": false
   },
   "id": "cbde14b037adba06"
  },
  {
   "cell_type": "code",
   "outputs": [],
   "source": [
    "model = CatBoostClassifier(\n",
    "    iterations=10000,\n",
    "    learning_rate=0.06,\n",
    "    depth=5,\n",
    "    l2_leaf_reg=7,\n",
    "    loss_function='MultiClass',\n",
    "    eval_metric='Accuracy',\n",
    "    verbose=False, \n",
    "    early_stopping_rounds=20,\n",
    "    cat_features=cat_features,\n",
    "    grow_policy='Lossguide'\n",
    ")"
   ],
   "metadata": {
    "collapsed": false,
    "ExecuteTime": {
     "end_time": "2024-03-26T03:55:10.086831Z",
     "start_time": "2024-03-26T03:55:10.082251Z"
    }
   },
   "id": "f6b5d0bae8668ef1",
   "execution_count": 17
  },
  {
   "cell_type": "markdown",
   "source": [
    "TRAIN MODEL"
   ],
   "metadata": {
    "collapsed": false
   },
   "id": "9112ea1a01f8ee36"
  },
  {
   "cell_type": "code",
   "outputs": [],
   "source": [
    "model.fit(train_pool, plot=True)"
   ],
   "metadata": {
    "collapsed": false
   },
   "id": "108fb92138d471d6",
   "execution_count": null
  },
  {
   "cell_type": "markdown",
   "source": [
    "CHECK ACCURACY AND OTHER METRICS"
   ],
   "metadata": {
    "collapsed": false
   },
   "id": "d7bb778bd012441d"
  },
  {
   "cell_type": "code",
   "outputs": [],
   "source": [
    "y_pred = model.predict(test_pool)\n",
    "model.score(test_pool)"
   ],
   "metadata": {
    "collapsed": false
   },
   "id": "48336de83b60a186",
   "execution_count": null
  },
  {
   "cell_type": "code",
   "outputs": [],
   "source": [
    "f\"Accuracy: {accuracy_score(y_test, y_pred)}\""
   ],
   "metadata": {
    "collapsed": false
   },
   "id": "c8f2788f614f40f8",
   "execution_count": null
  },
  {
   "cell_type": "code",
   "outputs": [],
   "source": [
    "f\"F1-Score: {f1_score(y_test, y_pred, average='weighted')}\"\n"
   ],
   "metadata": {
    "collapsed": false
   },
   "id": "8e5dc436706218e3",
   "execution_count": null
  },
  {
   "cell_type": "code",
   "outputs": [],
   "source": [
    "f\"Confusion Matrix:\\n{confusion_matrix(y_test, y_pred)}\""
   ],
   "metadata": {
    "collapsed": false
   },
   "id": "81d64afc8b1a65c1",
   "execution_count": null
  },
  {
   "cell_type": "code",
   "outputs": [],
   "source": [
    "f\"ROC-AUC: {roc_auc_score(y_test, model.predict_proba(X_test), multi_class='ovo')}\""
   ],
   "metadata": {
    "collapsed": false
   },
   "id": "a8f8315e7be216ff",
   "execution_count": null
  },
  {
   "cell_type": "markdown",
   "source": [
    "SAVE MODEL"
   ],
   "metadata": {
    "collapsed": false
   },
   "id": "f5dd833ee04935b1"
  },
  {
   "cell_type": "code",
   "outputs": [],
   "source": [
    "model.save_model(\"models/catboost-model-1-acc-64-097-2-new_ver\")"
   ],
   "metadata": {
    "collapsed": false
   },
   "id": "d66b7159390d5a86"
  }
 ],
 "metadata": {
  "kernelspec": {
   "display_name": "Python 3",
   "language": "python",
   "name": "python3"
  },
  "language_info": {
   "codemirror_mode": {
    "name": "ipython",
    "version": 2
   },
   "file_extension": ".py",
   "mimetype": "text/x-python",
   "name": "python",
   "nbconvert_exporter": "python",
   "pygments_lexer": "ipython2",
   "version": "2.7.6"
  }
 },
 "nbformat": 4,
 "nbformat_minor": 5
}
