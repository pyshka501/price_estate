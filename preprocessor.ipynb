{
 "cells": [
  {
   "cell_type": "code",
   "execution_count": null,
   "id": "initial_id",
   "metadata": {
    "collapsed": true
   },
   "outputs": [],
   "source": [
    "#downloading required libraries\n",
    "!pip install matplotlib\n",
    "!pip install seaborn\n",
    "!pip install numpy\n",
    "!pip install pandas\n",
    "!pip install scikit-learn"
   ]
  },
  {
   "cell_type": "markdown",
   "source": [
    "IMPORTS"
   ],
   "metadata": {
    "collapsed": false
   },
   "id": "dbbbb3a359e051fa"
  },
  {
   "cell_type": "code",
   "outputs": [],
   "source": [
    "import pandas as pd\n",
    "import seaborn as sns\n",
    "import matplotlib.pyplot as plt\n",
    "%matplotlib inline"
   ],
   "metadata": {
    "collapsed": false
   },
   "id": "80e1921c2b0914e2",
   "execution_count": null
  },
  {
   "cell_type": "markdown",
   "source": [
    "REQUIRED FUNCTIONS"
   ],
   "metadata": {
    "collapsed": false
   },
   "id": "93d81933c2c9f08f"
  },
  {
   "cell_type": "markdown",
   "source": [],
   "metadata": {
    "collapsed": false
   },
   "id": "90960aa73d3c9280"
  },
  {
   "cell_type": "code",
   "outputs": [],
   "source": [
    "\n",
    "# func for one-hot encoding (useless for CatBoost regressor)\n",
    "def encode_text_columns(df: pd.DataFrame) -> pd.DataFrame:\n",
    "    # copy df\n",
    "    encoded_df = df.copy()\n",
    "    # iterate DataFrame through columns\n",
    "    for column in encoded_df.columns:\n",
    "        # check data\n",
    "        if encoded_df[column].dtype == object and column != 'timestamp':\n",
    "            # one-hot encoding\n",
    "            encoded_df[column], _ = pd.factorize(encoded_df[column])\n",
    "    return encoded_df\n",
    "\n",
    "\n",
    "def remove_columns_with_missing_data(df: pd.DataFrame, percent: int) -> pd.DataFrame:\n",
    "    # copy df\n",
    "    df_cleaned = df.copy()\n",
    "    # iterate DataFrame through columns\n",
    "    for column in df_cleaned.columns:\n",
    "        # Calculate the percentage of missing data for each column\n",
    "        missing_percent = (df_cleaned[column].isnull().sum() / len(df_cleaned)) * 100\n",
    "        # If the percentage of missing data is greater than the specified X, delete the column\n",
    "        if missing_percent > percent:\n",
    "            df_cleaned.drop(column, axis = 1, inplace = True)\n",
    "    return df_cleaned\n",
    "\n",
    "\n",
    "def mean_filling_missing_data(df: pd.DataFrame) -> pd.DataFrame:\n",
    "    # copy df\n",
    "    df = df.copy()\n",
    "    # iterate DataFrame through columns\n",
    "    # Filling missing values for continuously columns with the mean value\n",
    "    for column in df.select_dtypes(include = ['number']).columns:\n",
    "        df[column].fillna(df[column].mean(), inplace = True)\n",
    "    # Filling missing values for categorical columns with the most common value\n",
    "    for column in df.select_dtypes(include = ['object']).columns:\n",
    "        df[column].fillna(df[column].mode()[0], inplace = True)\n",
    "    return df\n",
    "\n",
    "\n",
    "def remove_corr_data(df: pd.DataFrame, threshold: float) -> pd.DataFrame:\n",
    "    # Creating corr matrix\n",
    "    df1 = df.copy()\n",
    "    df = encode_text_columns(df.copy())\n",
    "    try:\n",
    "        del df['timestamp']\n",
    "    except KeyError:\n",
    "        pass\n",
    "    correlation_matrix = df.corr().abs()\n",
    "\n",
    "    # Finding the indices of columns with correlations above the threshold\n",
    "    above_threshold_vars = {}\n",
    "    for col in correlation_matrix:\n",
    "        above_threshold_vars[col] = list(correlation_matrix.index[(1 > correlation_matrix[col]) & (correlation_matrix[col] > threshold)])\n",
    "    # Discard one of the columns from each pair with high correlation\n",
    "    cols_to_drop = set()\n",
    "    for col in above_threshold_vars:\n",
    "        cols_to_drop.update(set(above_threshold_vars[col]) - {col})\n",
    "    # Del columns\n",
    "    df_reduced = df1.drop(columns=cols_to_drop)\n",
    "    return df_reduced\n",
    "\n",
    "\n",
    "def construct_heatmap(df: pd.DataFrame) -> None:\n",
    "    # Construct heatmap and corr matrix\n",
    "    corr_matrix = encode_text_columns(df)\n",
    "    try:\n",
    "        del corr_matrix['timestamp']\n",
    "    except:\n",
    "        pass\n",
    "    sns.heatmap(corr_matrix.corr())\n",
    "\n",
    "\n",
    "\n",
    "\n",
    "def plot_data(df):\n",
    "    for column in df.columns:\n",
    "        if pd.api.types.is_integer_dtype(df[column]):\n",
    "            # Construct a histogram for integer values\n",
    "            df[column].hist()\n",
    "            plt.title(f'Histogram of {column}')\n",
    "            plt.xlabel('Value')\n",
    "            plt.ylabel('Number of objects')\n",
    "            plt.show()\n",
    "        elif pd.api.types.is_float_dtype(df[column]):\n",
    "            # Construct a distribution graph for continuous values\n",
    "            sns.histplot(df[column], kde=True)\n",
    "            plt.title(f'Distribution of data in the {column} column')\n",
    "            plt.xlabel('Value')\n",
    "            plt.ylabel('Density')\n",
    "            plt.show()\n",
    "            \n",
    "def split_into_price_ranges(df, N):\n",
    "    # Check that N is not greater than the number of objects in the DataFrame\n",
    "    if N > len(df):\n",
    "        raise ValueError(\"N не может быть больше количества объектов в DataFrame\")\n",
    "    \n",
    "    #   Using qcut to split into groups\n",
    "    df['price_group'] = pd.qcut(df['price_doc'], q=N, labels=[i for i in range(N)])\n",
    "    \n",
    "    # Outputting intervals and class labels\n",
    "    intervals = pd.qcut(df['price_doc'], q=N).unique()\n",
    "    for interval in sorted(intervals):\n",
    "        print(f\"Интервал: {interval}, Метка класса: {df[df['price_doc'].between(interval.left, interval.right)]['price_group'].iloc[0]}\")\n",
    "    \n",
    "    # Returning a new dataset\n",
    "    return df\n",
    "\n",
    "def visualize_price_distribution(price_column: pd.Series) -> None:\n",
    "    plt.figure(figsize=(10, 6))\n",
    "    plt.hist(price_column, bins=60, color='blue', edgecolor='black')\n",
    "    plt.title('Распределение цен на недвижимость')\n",
    "    plt.xlim(0,30*10**6)\n",
    "    plt.xlabel('Цена')\n",
    "    plt.ylabel('Количество объектов')\n",
    "    plt.grid(True)\n",
    "    plt.show()\n"
   ],
   "metadata": {
    "collapsed": false,
    "ExecuteTime": {
     "end_time": "2024-03-26T03:51:19.267649Z",
     "start_time": "2024-03-26T03:51:19.249840Z"
    }
   },
   "id": "db3ec5f1bf350263",
   "execution_count": 4
  },
  {
   "cell_type": "markdown",
   "source": [
    "READING DATASETS"
   ],
   "metadata": {
    "collapsed": false
   },
   "id": "5df64b7e3f1bd232"
  },
  {
   "cell_type": "code",
   "outputs": [],
   "source": [
    "#reading csv files\n",
    "train_df = pd.read_csv(\"datasets/train.csv\", index_col=0)\n",
    "macro_df = pd.read_csv(\"datasets/macro.csv\")"
   ],
   "metadata": {
    "collapsed": false,
    "ExecuteTime": {
     "end_time": "2024-03-26T03:51:21.652673Z",
     "start_time": "2024-03-26T03:51:20.601287Z"
    }
   },
   "id": "52046fd833ba57db",
   "execution_count": 5
  },
  {
   "cell_type": "markdown",
   "source": [
    "EDA"
   ],
   "metadata": {
    "collapsed": false
   },
   "id": "6959e6585b831e17"
  },
  {
   "cell_type": "code",
   "outputs": [],
   "source": [
    "#information about datasets\n",
    "for dataset in [train_df, macro_df]:\n",
    "    print(dataset.info())\n",
    "    print('-'*100)"
   ],
   "metadata": {
    "collapsed": false
   },
   "id": "29f48efe50ecb31f",
   "execution_count": null
  },
  {
   "cell_type": "code",
   "outputs": [],
   "source": [
    "train_df.head()"
   ],
   "metadata": {
    "collapsed": false
   },
   "id": "80937e71c5f8611f",
   "execution_count": null
  },
  {
   "cell_type": "code",
   "outputs": [],
   "source": [
    "macro_df.head()"
   ],
   "metadata": {
    "collapsed": false
   },
   "id": "24e9ff4e016a6808",
   "execution_count": null
  },
  {
   "cell_type": "markdown",
   "source": [
    "MERGING DATASETS  "
   ],
   "metadata": {
    "collapsed": false
   },
   "id": "662d6d76e13a58b4"
  },
  {
   "cell_type": "code",
   "outputs": [],
   "source": [
    "df = pd.merge(train_df, macro_df,)\n",
    "df.info()"
   ],
   "metadata": {
    "collapsed": false
   },
   "id": "e7bb32cc8d8b2dca",
   "execution_count": null
  },
  {
   "cell_type": "code",
   "outputs": [],
   "source": [
    "df.head()"
   ],
   "metadata": {
    "collapsed": false
   },
   "id": "379d0d54519c3e9d",
   "execution_count": null
  },
  {
   "cell_type": "code",
   "outputs": [],
   "source": [
    "df.isnull().sum()"
   ],
   "metadata": {
    "collapsed": false
   },
   "id": "37ba222da8833ccb",
   "execution_count": null
  },
  {
   "cell_type": "code",
   "outputs": [],
   "source": [
    "df = remove_columns_with_missing_data(df, 5)\n",
    "df.shape"
   ],
   "metadata": {
    "collapsed": false
   },
   "id": "19816e573a89faaa",
   "execution_count": null
  },
  {
   "cell_type": "code",
   "outputs": [],
   "source": [
    "df = mean_filling_missing_data(df)\n",
    "df.describe()"
   ],
   "metadata": {
    "collapsed": false
   },
   "id": "aae4756d5881255e",
   "execution_count": null
  },
  {
   "cell_type": "markdown",
   "source": [
    "CONSTRUCT HEATMAP AND CORR MATRIX"
   ],
   "metadata": {
    "collapsed": false
   },
   "id": "ee427d31524bcbbf"
  },
  {
   "cell_type": "code",
   "outputs": [],
   "source": [
    "construct_heatmap(df)"
   ],
   "metadata": {
    "collapsed": false
   },
   "id": "53a5f051ff663078",
   "execution_count": null
  },
  {
   "cell_type": "markdown",
   "source": [
    "REMOVE EXTRA DATA"
   ],
   "metadata": {
    "collapsed": false
   },
   "id": "fa4aea1d0009483d"
  },
  {
   "cell_type": "code",
   "outputs": [],
   "source": [
    "df = remove_corr_data(df,0.6)\n",
    "df.shape\n",
    "df"
   ],
   "metadata": {
    "collapsed": false
   },
   "id": "6fa034c97f6e4db7",
   "execution_count": null
  },
  {
   "cell_type": "code",
   "outputs": [],
   "source": [
    "df.describe()"
   ],
   "metadata": {
    "collapsed": false
   },
   "id": "15ed99ebe75127d",
   "execution_count": null
  },
  {
   "cell_type": "code",
   "outputs": [],
   "source": [
    "construct_heatmap(df)"
   ],
   "metadata": {
    "collapsed": false
   },
   "id": "52c27f3ba048f090",
   "execution_count": null
  },
  {
   "cell_type": "code",
   "outputs": [],
   "source": [
    "set(df.dtypes)"
   ],
   "metadata": {
    "collapsed": false
   },
   "id": "ed90c63e1162a9db",
   "execution_count": null
  },
  {
   "cell_type": "code",
   "outputs": [],
   "source": [
    "plot_data(df)"
   ],
   "metadata": {
    "collapsed": false,
    "ExecuteTime": {
     "end_time": "2024-03-28T20:35:21.267281Z",
     "start_time": "2024-03-28T20:35:21.261948Z"
    }
   },
   "id": "ada6ada74cc5f0c3",
   "execution_count": 1
  },
  {
   "cell_type": "markdown",
   "source": [
    "SAVE DATASET FOR REG_MODEL "
   ],
   "metadata": {
    "collapsed": false
   },
   "id": "32bfb54ce65101c5"
  },
  {
   "cell_type": "code",
   "outputs": [],
   "source": [
    "df.to_csv('datasets/out_dataset_2_porog_60.csv', index=False) "
   ],
   "metadata": {
    "collapsed": false,
    "ExecuteTime": {
     "end_time": "2024-03-25T08:43:42.394281Z",
     "start_time": "2024-03-25T08:43:41.283841Z"
    }
   },
   "id": "2f71e6179af0eaab",
   "execution_count": 188
  },
  {
   "cell_type": "markdown",
   "source": [
    "ANALIZ DATA FOR CAT_DATASET"
   ],
   "metadata": {
    "collapsed": false
   },
   "id": "f1bcde83402d930f"
  },
  {
   "cell_type": "code",
   "outputs": [],
   "source": [
    "df['price_doc'].info()"
   ],
   "metadata": {
    "collapsed": false
   },
   "id": "2eff2d8d7c51c8da",
   "execution_count": null
  },
  {
   "cell_type": "code",
   "outputs": [],
   "source": [
    "visualize_price_distribution(df['price_doc'])"
   ],
   "metadata": {
    "collapsed": false
   },
   "id": "fa34b109ee6f3bc3",
   "execution_count": null
  },
  {
   "cell_type": "code",
   "outputs": [],
   "source": [
    "new_df = split_into_price_ranges(df, 35)"
   ],
   "metadata": {
    "collapsed": false
   },
   "id": "69a76f9cdef787f1",
   "execution_count": null
  },
  {
   "cell_type": "code",
   "outputs": [],
   "source": [
    "new_df['price_group']"
   ],
   "metadata": {
    "collapsed": false
   },
   "id": "ba8f1d8f80a624a7",
   "execution_count": null
  },
  {
   "cell_type": "code",
   "outputs": [],
   "source": [
    "visualize_price_distribution(new_df['price_group'])"
   ],
   "metadata": {
    "collapsed": false
   },
   "id": "d0fc906201c29f90",
   "execution_count": null
  },
  {
   "cell_type": "markdown",
   "source": [
    "SAVE DATASET FOR CAT_MODEL"
   ],
   "metadata": {
    "collapsed": false
   },
   "id": "42bf1be2496dd14d"
  },
  {
   "cell_type": "code",
   "outputs": [],
   "source": [
    "new_df.to_csv('datasets/out_dataset_3_class_porog_60.csv', index=False) "
   ],
   "metadata": {
    "collapsed": false,
    "ExecuteTime": {
     "end_time": "2024-03-26T03:53:35.395759Z",
     "start_time": "2024-03-26T03:53:34.770523Z"
    }
   },
   "id": "49c1234763b45220",
   "execution_count": 26
  }
 ],
 "metadata": {
  "kernelspec": {
   "display_name": "Python 3",
   "language": "python",
   "name": "python3"
  },
  "language_info": {
   "codemirror_mode": {
    "name": "ipython",
    "version": 2
   },
   "file_extension": ".py",
   "mimetype": "text/x-python",
   "name": "python",
   "nbconvert_exporter": "python",
   "pygments_lexer": "ipython2",
   "version": "2.7.6"
  }
 },
 "nbformat": 4,
 "nbformat_minor": 5
}
